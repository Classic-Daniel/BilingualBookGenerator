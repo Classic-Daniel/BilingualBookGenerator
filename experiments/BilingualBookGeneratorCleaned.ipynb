{
  "nbformat": 4,
  "nbformat_minor": 0,
  "metadata": {
    "colab": {
      "name": "BilingualBookGeneratorCleaned.ipynb",
      "provenance": []
    },
    "kernelspec": {
      "name": "python3",
      "display_name": "Python 3"
    },
    "language_info": {
      "name": "python"
    }
  },
  "cells": [
    {
      "cell_type": "markdown",
      "source": [
        "# Bilingual Book Generator\n",
        "\n",
        "### **Goal:** generate bilingual ebooks, where a few sentences of language A is followed by the corresponding sentences in language B and so on. The program does not do translation, it relies on text input provided in both language A and B.\n",
        "\n",
        "*Issues faced:* in high literature the sentence structure often gets adjusted during translation. Sentences are divided into several sentences. Potentially the order of sentences changed, paragraphs are divided into several paragraphs etc. Therefore the bilingual book generator should recognize which sentences match together.\n",
        "\n",
        "*Approach:* I will try to use NLP techniques to match together sentences. First I shall see if a simple encoder based sentence distance measurement works. If not, I shall look into neural network based techniques."
      ],
      "metadata": {
        "id": "rAG8DfWAvype"
      }
    },
    {
      "cell_type": "markdown",
      "source": [
        "For the research phase I shall generate a German-English bilingual book from Herman Hesse's Siddharta. The books are available for free at gutenberg.org\n",
        "\n",
        "https://www.gutenberg.org/ebooks/2500\n",
        "\n",
        "https://www.gutenberg.org/ebooks/2499"
      ],
      "metadata": {
        "id": "A3pL9z7Dx-7S"
      }
    },
    {
      "cell_type": "code",
      "source": [
        "# Downloading the plain text versions of the books\n",
        "!wget https://www.gutenberg.org/cache/epub/2500/pg2500.txt\n",
        "!wget https://www.gutenberg.org/cache/epub/2499/pg2499.txt"
      ],
      "metadata": {
        "id": "vo9QKLCzz-QB"
      },
      "execution_count": null,
      "outputs": []
    },
    {
      "cell_type": "code",
      "source": [
        "# Reading the texts into python variables\n",
        "textGerman = textEnglish = None\n",
        "\n",
        "with open(\"pg2499.txt\", \"r\") as fileGerman:\n",
        "  textGerman = fileGerman.read()\n",
        "\n",
        "with open(\"pg2500.txt\", \"r\") as textEnglish:\n",
        "  textEnglish = textEnglish.read()\n",
        "\n",
        "len(textGerman), len(textEnglish)"
      ],
      "metadata": {
        "colab": {
          "base_uri": "https://localhost:8080/"
        },
        "id": "J3Y6dL5j0Ynh",
        "outputId": "3c566416-579d-4d00-e631-915cace29eb4"
      },
      "execution_count": 2,
      "outputs": [
        {
          "output_type": "execute_result",
          "data": {
            "text/plain": [
              "(232866, 235447)"
            ]
          },
          "metadata": {},
          "execution_count": 2
        }
      ]
    },
    {
      "cell_type": "markdown",
      "source": [
        "Finding pretrained embeddings for German and English - socalled cross-lingual word embedding models, or Multilingual Universal Sentence Encoder. Read more at https://www.tensorflow.org/hub/tutorials/cross_lingual_similarity_with_tf_hub_multilingual_universal_encoder"
      ],
      "metadata": {
        "id": "2qDEK2ez1KlP"
      }
    },
    {
      "cell_type": "markdown",
      "source": [
        "I shall use the universal-sentence-encoder-multilingual embedding. It works with 16 languages: Arabic, Chinese-simplified, Chinese-traditional, English, French, German, Italian, Japanese, Korean, Dutch, Polish, Portuguese, Spanish, Thai, Turkish, Russian.\n",
        "\n",
        "https://tfhub.dev/google/universal-sentence-encoder-multilingual/3"
      ],
      "metadata": {
        "id": "DRlTynJi1u7W"
      }
    },
    {
      "cell_type": "code",
      "source": [
        "!pip install tensorflow_text==\"2.7.0\""
      ],
      "metadata": {
        "id": "oQlfiQp04yoc"
      },
      "execution_count": null,
      "outputs": []
    },
    {
      "cell_type": "code",
      "source": [
        "import tensorflow as tf\n",
        "import tensorflow_hub as hub\n",
        "from tensorflow_text import SentencepieceTokenizer\n",
        "\n",
        "module_url = 'https://tfhub.dev/google/universal-sentence-encoder-multilingual/3'\n",
        "embedding_model = hub.load(module_url)\n",
        "\n",
        "def embedSentences(input):\n",
        "  return embedding_model(input)"
      ],
      "metadata": {
        "id": "_FQa7mZ93WYI"
      },
      "execution_count": 8,
      "outputs": []
    },
    {
      "cell_type": "code",
      "source": [
        "sampleSentencesGerman = [\"Im Schatten des Hauses, in der Sonne des Flußufers bei den Booten, im Schatten des Salwaldes, im Schatten des Feigenbaumes wuchs Siddhartha auf, der schöne Sohn des Brahmanen, der junge Falke, zusammen mit Govinda, seinem Freunde, dem Brahmanensohn.\", \"Liebe rührte sich in den Herzen der jungen Brahmanentöchter, wenn Siddhartha durch die Gassen der Stadt ging, mit der leuchtenden Stirn, mit dem Königsauge, mit den schmalen Hüften.\"]\n",
        "sampleEmbeddingsGerman = embedSentences(sampleSentencesGerman)\n",
        "\n",
        "sampleSentencesEnglish = [\"In the shade of the house, in the sunshine of the riverbank near the boats, in the shade of the Sal-wood forest, in the shade of the fig tree is where Siddhartha grew up, the handsome son of the Brahman, the young falcon, together with his friend Govinda, son of a Brahman.\", \"Love touched the hearts of the Brahmans’ young daughters when Siddhartha walked through the lanes of the town with the luminous forehead, with the eye of a king, with his slim hips.\"]\n",
        "sampleEmbeddingsEnglish = embedSentences(sampleSentencesEnglish)\n",
        "\n",
        "sampleEmbeddingsGerman.shape"
      ],
      "metadata": {
        "id": "ND5hIZ6U36gs",
        "colab": {
          "base_uri": "https://localhost:8080/"
        },
        "outputId": "2328bf32-97dd-4e93-cd9f-efea2930acc0"
      },
      "execution_count": 9,
      "outputs": [
        {
          "output_type": "execute_result",
          "data": {
            "text/plain": [
              "TensorShape([2, 512])"
            ]
          },
          "metadata": {},
          "execution_count": 9
        }
      ]
    },
    {
      "cell_type": "code",
      "source": [
        "# Measure euclidean distances between embeddings\n",
        "def embedDistance(embedA, embedB):\n",
        "  distance = tf.sqrt(tf.reduce_sum(tf.square(embedA - embedB)))\n",
        "  return distance.numpy()"
      ],
      "metadata": {
        "id": "yyHgGm4e5wRU"
      },
      "execution_count": 10,
      "outputs": []
    },
    {
      "cell_type": "code",
      "source": [
        "[embedDistance(sampleEmbeddingsGerman[0], sampleEmbeddingsEnglish[0]), \n",
        "embedDistance(sampleEmbeddingsGerman[1], sampleEmbeddingsEnglish[1]),\n",
        "embedDistance(sampleEmbeddingsGerman[0], sampleEmbeddingsEnglish[1]),\n",
        "embedDistance(sampleEmbeddingsGerman[1], sampleEmbeddingsEnglish[0])]"
      ],
      "metadata": {
        "id": "aPtR8qyK7EVQ",
        "colab": {
          "base_uri": "https://localhost:8080/"
        },
        "outputId": "0cd5f559-3a2b-44ed-be75-d0c25dc9a092"
      },
      "execution_count": 11,
      "outputs": [
        {
          "output_type": "execute_result",
          "data": {
            "text/plain": [
              "[0.5691226, 0.5534523, 0.8985048, 0.9359911]"
            ]
          },
          "metadata": {},
          "execution_count": 11
        }
      ]
    },
    {
      "cell_type": "markdown",
      "source": [
        "It is visible that the matching sentences are much closer to each other than non-matching ones. But is it good enough?"
      ],
      "metadata": {
        "id": "Ru63xUDk-UsQ"
      }
    },
    {
      "cell_type": "markdown",
      "source": [
        "#Text Processing"
      ],
      "metadata": {
        "id": "XZxW7rhI_VmV"
      }
    },
    {
      "cell_type": "markdown",
      "source": [
        "Starting the text processing. We shall see how well the sentence pairing works when we look near the end of chapters. At that point errors appearing throughout the chapter could have accumulated.\n",
        "\n",
        "During the research phase, we will only work with the first part of the text. From now on instead of referring to specific languages in code, German will be referred to as A, English as B. This will help generalize the code later."
      ],
      "metadata": {
        "id": "yNF8jiEg-uZO"
      }
    },
    {
      "cell_type": "code",
      "source": [
        "textRatio = 1 # 0.05\n",
        "\n",
        "textA = textGerman[:int(len(textGerman) * textRatio)]\n",
        "textB = textEnglish[:int(len(textEnglish) * textRatio)]"
      ],
      "metadata": {
        "id": "hVw8oKDN8NQF"
      },
      "execution_count": 12,
      "outputs": []
    },
    {
      "cell_type": "code",
      "source": [
        "import re\n",
        "\n",
        "def removeFormatting(text):\n",
        "  cleanedText = text.replace(\"\\n\", \" \")\n",
        "  # remove non utf-8 characters\n",
        "  # cleanedText = cleanedText.encode('ascii','ignore').decode(\"ascii\")\n",
        "  cleanedText = cleanedText.strip()\n",
        "  return cleanedText\n",
        "\n",
        "# Embed text\n",
        "def embedText(text):\n",
        "  # Separate text into sentences\n",
        "  sentences = re.split('(?<!\\w\\.\\w.)(?<![A-Z][a-z]\\.)(?<=\\.|\\?)(\\s|[A-Z].*)',text)\n",
        "  # filter out non-sentences\n",
        "  filtered = filter(lambda text: text not in [\"\", \" \", \"\\n\"], sentences)\n",
        "  # Remove linebreaks from text\n",
        "  filtered = list(map(removeFormatting, filtered))\n",
        "  # Embed sentences\n",
        "  return embedSentences(filtered), filtered"
      ],
      "metadata": {
        "id": "N-kvwpv7JTfv"
      },
      "execution_count": 13,
      "outputs": []
    },
    {
      "cell_type": "markdown",
      "source": [
        "For identifying matching sequences of text, I shall try out methods used in genetics for matching gene sequences. The family of algorithms are called Sequence alignment algorithms."
      ],
      "metadata": {
        "id": "h5OWbq0bQLjs"
      }
    },
    {
      "cell_type": "code",
      "source": [
        "embeddedA, filteredSentencesA = embedText(textA)\n",
        "embeddedB, filteredSentencesB = embedText(textB)"
      ],
      "metadata": {
        "id": "A8FmIAVnJ3ST"
      },
      "execution_count": 14,
      "outputs": []
    },
    {
      "cell_type": "code",
      "source": [
        "print(\"\\n\".join(filteredSentencesB[50:60]))"
      ],
      "metadata": {
        "id": "CFX82JwysaJp",
        "colab": {
          "base_uri": "https://localhost:8080/"
        },
        "outputId": "e16f6bbd-f49f-49bc-c1db-5f3353629b48"
      },
      "execution_count": 18,
      "outputs": [
        {
          "output_type": "stream",
          "name": "stdout",
          "text": [
            "It had to be found, the pristine source in one’s own self, it had to be possessed! Everything else was searching, was a detour, was getting lost.\n",
            "Thus were Siddhartha’s thoughts, this was his thirst, this was his suffering.\n",
            "Often he spoke to himself from a Chandogya-Upanishad the words: “Truly, the name of the Brahman is satyam—verily, he who knows such a thing, will enter the heavenly world every day.” Often, it seemed near, the heavenly world, but never he had reached it completely, never he had quenched the ultimate thirst.\n",
            "And among all the wise and wisest men, he knew and whose instructions he had received, among all of them there was no one, who had reached it completely, the heavenly world, who had quenched it completely, the eternal thirst.\n",
            "“Govinda,” Siddhartha spoke to his friend, “Govinda, my dear, come with me under the Banyan tree, let’s practise meditation.”  They went to the Banyan tree, they sat down, Siddhartha right here, Govinda twenty paces away.\n",
            "While putting himself down, ready to speak the Om, Siddhartha repeated murmuring the verse:  Om is the bow, the arrow is soul, The Brahman is the arrow’s target, That one should incessantly hit.\n",
            "After the usual time of the exercise in meditation had passed, Govinda rose.\n",
            "The evening had come, it was time to perform the evening’s ablution.\n",
            "He called Siddhartha’s name.\n",
            "Siddhartha did not answer.\n"
          ]
        }
      ]
    },
    {
      "cell_type": "markdown",
      "source": [
        "Trying the naive method: step through array A. Try to find a nearby sentence in array B that is within threshold distance from the sentence in Array A"
      ],
      "metadata": {
        "id": "AsxV_YX0TkaW"
      }
    },
    {
      "cell_type": "code",
      "source": [
        "import numpy as np\n",
        "\n",
        "LOOK_AHEAD = 10\n",
        "MATCH_THRESHOLD = 0.7\n",
        "pairingAtoB = np.full((len(embeddedA)), -1, dtype=int)\n",
        "lastMatchedIndexB = -1\n",
        "indexA = -1\n",
        "\n",
        "for embeddingA in embeddedA:\n",
        "  indexA = indexA + 1\n",
        "\n",
        "  for i in range(LOOK_AHEAD):\n",
        "    indexB = min(lastMatchedIndexB + i, len(embeddedB) - 1)\n",
        "    distance = embedDistance(embeddingA, embeddedB[indexB])\n",
        "    \n",
        "    if(distance < MATCH_THRESHOLD):\n",
        "      pairingAtoB[indexA] = indexB\n",
        "      lastMatchedIndexB = indexB\n",
        "      break\n"
      ],
      "metadata": {
        "id": "eo_WvDRIK6Y5"
      },
      "execution_count": 45,
      "outputs": []
    },
    {
      "cell_type": "code",
      "source": [
        "# Count ratio of paired sentences\n",
        "np.count_nonzero(pairingAtoB != -1) / len(pairingAtoB)"
      ],
      "metadata": {
        "colab": {
          "base_uri": "https://localhost:8080/"
        },
        "id": "Yx-rBDFn4d_B",
        "outputId": "61c721f0-ba21-4b82-c7b1-5700210470b2"
      },
      "execution_count": 46,
      "outputs": [
        {
          "output_type": "execute_result",
          "data": {
            "text/plain": [
              "0.581056466302368"
            ]
          },
          "metadata": {},
          "execution_count": 46
        }
      ]
    },
    {
      "cell_type": "code",
      "source": [
        "# Print sentence pairings\n",
        "for i in range(100, 110): # len(pairingAtoB)\n",
        "  if(pairingAtoB[i] != -1):\n",
        "    print(filteredSentencesA[i])\n",
        "    print(filteredSentencesB[pairingAtoB[i]])\n",
        "    print()"
      ],
      "metadata": {
        "id": "amgvkD-RV-It",
        "colab": {
          "base_uri": "https://localhost:8080/"
        },
        "outputId": "77382755-14db-4911-848e-1270a1a0872f"
      },
      "execution_count": 48,
      "outputs": [
        {
          "output_type": "stream",
          "name": "stdout",
          "text": [
            "Nun gehe und küsse deine Mutter, sage ihr, wohin du gehst.\n",
            "Go now and kiss your mother, tell her where you are going to.\n",
            "\n",
            "Siddhartha schwankte zur Seite, als er zu gehen versuchte.\n",
            "Siddhartha wavered to the side, as he tried to walk.\n",
            "\n",
            "Als er im ersten Tageslicht langsam auf erstarrten Beinen die noch stille Stadt verließ, erhob sich bei der letzten Hütte ein Schatten, der dort gekauert war, und schloß sich an den Pilgernden an--Govinda.\n",
            "As he slowly left on stiff legs in the first light of day the still quiet town, a shadow rose near the last hut, who had crouched there, and joined the pilgrim—Govinda.\n",
            "\n",
            "\"Du bist gekommen\", sagte Siddhartha und lächelte.\n",
            "“You have come,” said Siddhartha and smiled.\n",
            "\n",
            "\"Ich bin gekommen,\" sagte Govinda.\n",
            "“I have come,” said Govinda.\n",
            "\n",
            "BEI DEN SAMANAS  Am Abend dieses Tages holten sie die Asketen ein, die dürren Samanas, und boten ihnen Begleitschaft und Gehorsam an.\n",
            "WITH THE SAMANAS   In the evening of this day they caught up with the ascetics, the skinny Samanas, and offered them their companionship and—obedience.\n",
            "\n"
          ]
        }
      ]
    },
    {
      "cell_type": "markdown",
      "source": [
        "# Convert text to PDF (Failed attempt)"
      ],
      "metadata": {
        "id": "aunulbFmlo2b"
      }
    },
    {
      "cell_type": "markdown",
      "source": [
        "### FPDF library"
      ],
      "metadata": {
        "id": "SP70E6b66GnF"
      }
    },
    {
      "cell_type": "code",
      "source": [
        "%%capture\n",
        "!pip install fpdf"
      ],
      "metadata": {
        "id": "LWDQsq4ClvUb"
      },
      "execution_count": 49,
      "outputs": []
    },
    {
      "cell_type": "code",
      "source": [
        "from fpdf import FPDF\n",
        "\n",
        "SENTENCES_PER_CELL = 3\n",
        "\n",
        "pdf = FPDF()\n",
        "pdf.set_font(\"Times\", size = 15)\n",
        "\n",
        "# generate text pairings\n",
        "textPairings = []\n",
        "\n",
        "cellSentencesCounter = 0\n",
        "lastUsedIndexA = -1\n",
        "lastUsedIndexB = -1\n",
        "\n",
        "for indexA in range(len(filteredSentencesA)):\n",
        "  if (indexA - lastUsedIndexA) > SENTENCES_PER_CELL and pairingAtoB[indexA] != -1:\n",
        "\n",
        "    aSentencesInCell = filteredSentencesA[lastUsedIndexA + 1 : indexA + 1]\n",
        "    bSentencesInCell = filteredSentencesB[lastUsedIndexB + 1 : pairingAtoB[indexA] + 1]\n",
        "    textPairings = textPairings + [(aSentencesInCell, bSentencesInCell)]\n",
        "    \n",
        "    lastUsedIndexA = indexA\n",
        "    lastUsedIndexB = pairingAtoB[indexA]\n"
      ],
      "metadata": {
        "id": "tLg-PtBVZYV5"
      },
      "execution_count": 50,
      "outputs": []
    },
    {
      "cell_type": "code",
      "source": [
        "pdf.add_page()\n",
        "\n",
        "cellCounter = 0\n",
        "\n",
        "for pairing in textPairings:\n",
        "  try:\n",
        "    text = \" \".join(pairing[0]) + \"\\n\" + \" \".join(pairing[1]) + \"\\n\\n\"\n",
        "    pdf.cell(200, 10, txt = text, ln = 1, align = 'L')\n",
        "    cellCounter = cellCounter + 1\n",
        "    if(cellCounter > 5):\n",
        "      pdf.add_page()\n",
        "\n",
        "  except Exception as e:\n",
        "    print(pairing)\n",
        "    print(e)\n",
        "\n",
        "# pdf.output(\"BilingualBook.pdf\")"
      ],
      "metadata": {
        "id": "8JpvgqBFoydH"
      },
      "execution_count": 52,
      "outputs": []
    },
    {
      "cell_type": "markdown",
      "source": [
        "*Note: the resulting pdf is unsatisfactory, I will try to generate a pdf using LaTex. This will allow better control of the layout*"
      ],
      "metadata": {
        "id": "bAxkCa326-28"
      }
    },
    {
      "cell_type": "markdown",
      "source": [
        "# Translate from other Languages\n",
        "\n",
        "Texts written in languages not supported by the encoder should be translated to English, then aligned. I will use google translate API for this purpose.\n",
        "\n",
        "The text chosen is Amok by Stefan Zweig. The original German version will be paired with the Hungarian version. Both versions are available for free at the following links:\n",
        "\n",
        "https://www.gutenberg.org/ebooks/57850\n",
        "\n",
        "https://mek.oszk.hu/00500/00537/\n",
        "\n",
        "The Hungarian version is not available as plain text, the RTF version will be used."
      ],
      "metadata": {
        "id": "0lNbXZGv6mf7"
      }
    },
    {
      "cell_type": "code",
      "source": [
        "!wget https://www.gutenberg.org/ebooks/57850.txt.utf-8\n",
        "!wget https://mek.oszk.hu/00500/00537/00537.rtf"
      ],
      "metadata": {
        "id": "nxedA-GDrIcO"
      },
      "execution_count": null,
      "outputs": []
    },
    {
      "cell_type": "markdown",
      "source": [
        "I had failed attempts for converting Hungarian RTF to plain text using pypandoc, docx2txt, textract libraries and to convert from HTML using BeautifulSoup"
      ],
      "metadata": {
        "id": "P1cXBM_86rYR"
      }
    },
    {
      "cell_type": "code",
      "source": [
        "!pip install pypandoc\n",
        "!pip install docx2txt\n",
        "# !pip install textract"
      ],
      "metadata": {
        "id": "xoBOFwhKLwet"
      },
      "execution_count": null,
      "outputs": []
    },
    {
      "cell_type": "code",
      "source": [
        "# Try different library\n",
        "import pypandoc\n",
        "\n",
        "print(pypandoc.get_pandoc_formats())\n",
        "# pypandoc.convert_file(\"00537.htm\", \"plain\", format=\"html\")"
      ],
      "metadata": {
        "id": "NaDof2F0_pmW",
        "colab": {
          "base_uri": "https://localhost:8080/"
        },
        "outputId": "03d40c7f-c35b-4e6c-c03f-29cd557fd0f2"
      },
      "execution_count": 60,
      "outputs": [
        {
          "output_type": "stream",
          "name": "stdout",
          "text": [
            "(['commonmark', 'docbook', 'docx', 'epub', 'haddock', 'html', 'json', 'latex', 'markdown', 'markdown_github', 'markdown_mmd', 'markdown_phpextra', 'markdown_strict', 'mediawiki', 'native', 'odt', 'opml', 'org', 'rst', 't2t', 'textile', 'twiki'], ['asciidoc', 'beamer', 'commonmark', 'context', 'docbook', 'docbook5', 'docx', 'dokuwiki', 'dzslides', 'epub', 'epub3', 'fb2', 'haddock', 'html', 'html5', 'icml', 'json', 'latex', 'man', 'markdown', 'markdown_github', 'markdown_mmd', 'markdown_phpextra', 'markdown_strict', 'mediawiki', 'native', 'odt', 'opendocument', 'opml', 'org', 'plain', 'revealjs', 'rst', 'rtf', 's5', 'slideous', 'slidy', 'tei', 'texinfo', 'textile', 'zimwiki'])\n"
          ]
        }
      ]
    },
    {
      "cell_type": "markdown",
      "source": [
        "Functioning RTF stripping function"
      ],
      "metadata": {
        "id": "CGUHii0g78MC"
      }
    },
    {
      "cell_type": "code",
      "source": [
        "\"\"\"\n",
        "Extract text in RTF Files. Refactored to use with Python 3.x\n",
        "Source:\n",
        "    http://stackoverflow.com/a/188877\n",
        "Code created by Markus Jarderot: http://mizardx.blogspot.com\n",
        "\"\"\"\n",
        "\n",
        "import re\n",
        "\n",
        "\n",
        "def striprtf(text):\n",
        "   pattern = re.compile(r\"\\\\([a-z]{1,32})(-?\\d{1,10})?[ ]?|\\\\'([0-9a-f]{2})|\\\\([^a-z])|([{}])|[\\r\\n]+|(.)\", re.I)\n",
        "   # control words which specify a \"destionation\".\n",
        "   destinations = frozenset((\n",
        "      'aftncn','aftnsep','aftnsepc','annotation','atnauthor','atndate','atnicn','atnid',\n",
        "      'atnparent','atnref','atntime','atrfend','atrfstart','author','background',\n",
        "      'bkmkend','bkmkstart','blipuid','buptim','category','colorschememapping',\n",
        "      'colortbl','comment','company','creatim','datafield','datastore','defchp','defpap',\n",
        "      'do','doccomm','docvar','dptxbxtext','ebcend','ebcstart','factoidname','falt',\n",
        "      'fchars','ffdeftext','ffentrymcr','ffexitmcr','ffformat','ffhelptext','ffl',\n",
        "      'ffname','ffstattext','field','file','filetbl','fldinst','fldrslt','fldtype',\n",
        "      'fname','fontemb','fontfile','fonttbl','footer','footerf','footerl','footerr',\n",
        "      'footnote','formfield','ftncn','ftnsep','ftnsepc','g','generator','gridtbl',\n",
        "      'header','headerf','headerl','headerr','hl','hlfr','hlinkbase','hlloc','hlsrc',\n",
        "      'hsv','htmltag','info','keycode','keywords','latentstyles','lchars','levelnumbers',\n",
        "      'leveltext','lfolevel','linkval','list','listlevel','listname','listoverride',\n",
        "      'listoverridetable','listpicture','liststylename','listtable','listtext',\n",
        "      'lsdlockedexcept','macc','maccPr','mailmerge','maln','malnScr','manager','margPr',\n",
        "      'mbar','mbarPr','mbaseJc','mbegChr','mborderBox','mborderBoxPr','mbox','mboxPr',\n",
        "      'mchr','mcount','mctrlPr','md','mdeg','mdegHide','mden','mdiff','mdPr','me',\n",
        "      'mendChr','meqArr','meqArrPr','mf','mfName','mfPr','mfunc','mfuncPr','mgroupChr',\n",
        "      'mgroupChrPr','mgrow','mhideBot','mhideLeft','mhideRight','mhideTop','mhtmltag',\n",
        "      'mlim','mlimloc','mlimlow','mlimlowPr','mlimupp','mlimuppPr','mm','mmaddfieldname',\n",
        "      'mmath','mmathPict','mmathPr','mmaxdist','mmc','mmcJc','mmconnectstr',\n",
        "      'mmconnectstrdata','mmcPr','mmcs','mmdatasource','mmheadersource','mmmailsubject',\n",
        "      'mmodso','mmodsofilter','mmodsofldmpdata','mmodsomappedname','mmodsoname',\n",
        "      'mmodsorecipdata','mmodsosort','mmodsosrc','mmodsotable','mmodsoudl',\n",
        "      'mmodsoudldata','mmodsouniquetag','mmPr','mmquery','mmr','mnary','mnaryPr',\n",
        "      'mnoBreak','mnum','mobjDist','moMath','moMathPara','moMathParaPr','mopEmu',\n",
        "      'mphant','mphantPr','mplcHide','mpos','mr','mrad','mradPr','mrPr','msepChr',\n",
        "      'mshow','mshp','msPre','msPrePr','msSub','msSubPr','msSubSup','msSubSupPr','msSup',\n",
        "      'msSupPr','mstrikeBLTR','mstrikeH','mstrikeTLBR','mstrikeV','msub','msubHide',\n",
        "      'msup','msupHide','mtransp','mtype','mvertJc','mvfmf','mvfml','mvtof','mvtol',\n",
        "      'mzeroAsc','mzeroDesc','mzeroWid','nesttableprops','nextfile','nonesttables',\n",
        "      'objalias','objclass','objdata','object','objname','objsect','objtime','oldcprops',\n",
        "      'oldpprops','oldsprops','oldtprops','oleclsid','operator','panose','password',\n",
        "      'passwordhash','pgp','pgptbl','picprop','pict','pn','pnseclvl','pntext','pntxta',\n",
        "      'pntxtb','printim','private','propname','protend','protstart','protusertbl','pxe',\n",
        "      'result','revtbl','revtim','rsidtbl','rxe','shp','shpgrp','shpinst',\n",
        "      'shppict','shprslt','shptxt','sn','sp','staticval','stylesheet','subject','sv',\n",
        "      'svb','tc','template','themedata','title','txe','ud','upr','userprops',\n",
        "      'wgrffmtfilter','windowcaption','writereservation','writereservhash','xe','xform',\n",
        "      'xmlattrname','xmlattrvalue','xmlclose','xmlname','xmlnstbl',\n",
        "      'xmlopen',\n",
        "   ))\n",
        "   # Translation of some special characters.\n",
        "   specialchars = {\n",
        "      'par': '\\n',\n",
        "      'sect': '\\n\\n',\n",
        "      'page': '\\n\\n',\n",
        "      'line': '\\n',\n",
        "      'tab': '\\t',\n",
        "      'emdash': '\\u2014',\n",
        "      'endash': '\\u2013',\n",
        "      'emspace': '\\u2003',\n",
        "      'enspace': '\\u2002',\n",
        "      'qmspace': '\\u2005',\n",
        "      'bullet': '\\u2022',\n",
        "      'lquote': '\\u2018',\n",
        "      'rquote': '\\u2019',\n",
        "      'ldblquote': '\\201C',\n",
        "      'rdblquote': '\\u201D',\n",
        "   }\n",
        "   stack = []\n",
        "   ignorable = False       # Whether this group (and all inside it) are \"ignorable\".\n",
        "   ucskip = 1              # Number of ASCII characters to skip after a unicode character.\n",
        "   curskip = 0             # Number of ASCII characters left to skip\n",
        "   out = []                # Output buffer.\n",
        "   for match in pattern.finditer(text):\n",
        "      word,arg,hex,char,brace,tchar = match.groups()\n",
        "      if brace:\n",
        "         curskip = 0\n",
        "         if brace == '{':\n",
        "            # Push state\n",
        "            stack.append((ucskip,ignorable))\n",
        "         elif brace == '}':\n",
        "            # Pop state\n",
        "            ucskip,ignorable = stack.pop()\n",
        "      elif char: # \\x (not a letter)\n",
        "         curskip = 0\n",
        "         if char == '~':\n",
        "            if not ignorable:\n",
        "                out.append('\\xA0')\n",
        "         elif char in '{}\\\\':\n",
        "            if not ignorable:\n",
        "               out.append(char)\n",
        "         elif char == '*':\n",
        "            ignorable = True\n",
        "      elif word: # \\foo\n",
        "         curskip = 0\n",
        "         if word in destinations:\n",
        "            ignorable = True\n",
        "         elif ignorable:\n",
        "            pass\n",
        "         elif word in specialchars:\n",
        "            out.append(specialchars[word])\n",
        "         elif word == 'uc':\n",
        "            ucskip = int(arg)\n",
        "         elif word == 'u':\n",
        "            c = int(arg)\n",
        "            if c < 0: c += 0x10000\n",
        "            if c > 127: out.append(chr(c)) #NOQA\n",
        "            else: out.append(chr(c))\n",
        "            curskip = ucskip\n",
        "      elif hex: # \\'xx\n",
        "         if curskip > 0:\n",
        "            curskip -= 1\n",
        "         elif not ignorable:\n",
        "            c = int(hex,16)\n",
        "            if c > 127: out.append(chr(c)) #NOQA\n",
        "            else: out.append(chr(c))\n",
        "      elif tchar:\n",
        "         if curskip > 0:\n",
        "            curskip -= 1\n",
        "         elif not ignorable:\n",
        "            out.append(tchar)\n",
        "   return ''.join(out)"
      ],
      "metadata": {
        "id": "fuYhlpU1UloR"
      },
      "execution_count": 63,
      "outputs": []
    },
    {
      "cell_type": "code",
      "source": [
        "plainText = None\n",
        "\n",
        "def splitSentences(text):\n",
        "  split = re.split('(?<!\\w\\.\\w.)(?<![A-Z][a-z]\\.)(?<=\\.|\\?)(\\s|[A-Z].*)', text)\n",
        "  \n",
        "  split = filter(lambda text: text not in [\"\", \" \", \"\\n\"], split)\n",
        "  # Remove linebreaks from text\n",
        "  split = list(map(removeFormatting, split))\n",
        "  return split\n",
        "\n",
        "with open(\"00537.rtf\") as file:\n",
        "  text = file.read()\n",
        "  plainText = striprtf(text)\n",
        "\n",
        "plainSentences = splitSentences(plainText)\n",
        "print(plainSentences)"
      ],
      "metadata": {
        "id": "FFkKyRy0UoDc",
        "colab": {
          "base_uri": "https://localhost:8080/"
        },
        "outputId": "dacb0604-34a3-45b9-d86e-8c4086defb8b"
      },
      "execution_count": 64,
      "outputs": [
        {
          "output_type": "stream",
          "name": "stdout",
          "text": [
            "['STEFAN ZWEIG  ÁMOK  FORDÍTOTTA: GÖRGEY GÁBOR     Ezerkilencszáztizenkettõ márciusában egy nápolyi kikötõben horgonyzó óceánjárón a kirakodásnál súlyos szerencsétlenség történt.', 'Az újságok terjedelmes, de igen valószínûtlenül kiszínezett tudósításokban számoltak be az esetrõl.', 'Bár magam is az Óceánián utaztam, sem én, sem útitársaim nem lehettünk tanúi a különös balesetnek, minthogy éjjel, szén- és árurakodás közben történt, s a lárma elõl valamennyien színházba vagy kávéházba menekültünk.', 'Annak idején nem beszéltem errõl, de azt hiszem, jól gyanítottam a megrázó esemény igazi okát, és most, esztendõk múltán, már feltárhatom azt a bizalmas beszélgetést, mely közvetlenül megelõzte a történteket.', 'Mikor visszatérõben Európába, a hajóstársaság calcuttai ügynökségén helyet akartam biztosítani az Óceánián, a hivatalnok sajnálkozva vállat vont.', 'Nem tudja még, kaphatok-e kabint, mert ilyenkor, az esõs évszak beállta elõtt, rendszerint már Ausztráliából lefoglalnak minden helyet, így tehát meg kell várni Singapore-ból a táviratot.', 'Másnap azonban nagy örömömre azzal a hírrel fogadott, hogy egy helyet még tud biztosítani a hajón, csak persze nem valami kényelmes a kabin; ezt adhatja, a fedélközön.', 'Már türelmetlenül vártam a hazatérést: nem haboztam tehát, és lefoglaltam a kajütöt.', 'A hivatalnok igazat mondott.', 'A hajó zsúfolva volt, a kajüt pedig pocsék: kicsi, összepréselt kuckó a gépház közelében, szomorkás, kerek ablakszemén alig szûrõdött be valami világosság.', 'A fülledt, áporodott levegõben penész- és olajszag bûzlött.', 'Egy pillanatra sem térhettem ki a ventillátor hûsítõ bûvkörébõl: mint egy megkergült vasdenevér, zizegve kerengett fejem fölött.', 'Alul a gépház nyögött és dohogott, mintha egy szénhordó zihált volna örökké egy és ugyanazon lépcsõn fölfelé, felettem pedig a fedélzeten sétálók folytonos ide-oda csoszogása hallatszott.', 'Így tehát, alighogy poggyászomat a dohos, szürke traverzes kriptába begyömöszöltem, visszamenekültem a fedélzetre, s mintha ámbra lenne, úgy ittam az édes ízû, puha szellõt, mely a partok felõl átlebegett hozzánk a hullámokon.', 'Ámde a zsúfolt fedélzet is nyugtalanító volt: szüntelenül fecsegõ, tétlenségre kárhoztatott, csapongóan ideges embertömeg hemzsegett mindenfelé.', 'Valahogy szinte fájt a nõk csicsergõ viháncolása, a végeérhetetlen körbekarikázás a fedélzet szûk ösvényein, a széksorok között, ahol a nyughatatlan, locsogó csoportok újra meg újra összetalálkoztak.', 'Egy új világot láttam, õrült hajszában ittam magamba az egymást kergetõ képeket.', 'Most szerettem volna átgondolni, részeire bontani, mindezt elrendezni, a sok friss benyomásból képet alkotni - de ezen a zsivajgó hajósétányon egyetlen perc nyugovást sem találtam.', 'Olvasni próbáltam, de könyvemben a tereferélõk rávetõdõ árnyékától minduntalan összefolytak a betûk.', 'Egyetlen árnyas zugot sem leltem ezen a sürgõ hajókorzón, ahol magamra maradhattam volna.', 'Három nap hasztalan keresgéltem nyugovást, csüggedten néztem az embereket, bámultam a tengert, mely változatlanul kék volt és sima, csak napnyugtakor öntötte el ezernyi szín.', 'Háromszor huszonnégy óra után pedig az embereket szinte a hátukról megismertem már.', 'Torkig voltam az ismerõs arcokkal, az asszonyok éles kacagása nem ingerelt már, a két, szomszédos holland tiszt örökös veszekedésén sem tudtam bosszankodni.', 'Megszökni végre! De a kabin forróságát nem bírtam elviselni, a társalgóban pedig naphosszat angol lányok gyötörték elcsépelt keringõikkel a zongorát.', 'Végül is elszántan felcseréltem napot és éjt, már kora délután kajütömbe bújtam, miután sörrel alaposan elbódítottam magam.', 'Egyszerûen átaludtam a vacsorát és a táncestélyeket.', 'Mikor felébredtem, kabinnak nevezett koporsómban teljes volt a sötétség.', 'A ventillátort elalvás elõtt kikapcsoltam: most nedves és zsíros levegõ tapadt halántékomra.', 'Érzékeim teljesen eltompultak, percekbe telt, míg tájékozódni tudtam, hogy hány óra, és hol vagyok.', 'Éjfél mindenesetre elmúlt már, mert sem zenét, sem az örökös csoszogást nem hallottam, csak a tengeri szörny lüktetõ szíve, a gépház lökte zihálva a hajó nyöszörgõ testét egyre tovább a bizonytalan éjszakában.', 'Felbotorkáltam a fedélzetre.', 'Teljesen kihalt volt.', 'Mikor tekintetem a kémény komor tornyára és a kísértetiesen villogó árbocokra tévedt, titokzatos fény sugárzott felém.', 'Tündökölt az ég.', 'A fehéren sziporkázó csillagokhoz képest sötét volt - és mégis tündökölt, mintha valamilyen roppant fényt bársonylepel takart volna el, a szikrázó csillagok pedig csak lyukak és hasadékok, melyeken ez a leírhatatlan sugárzás átcsillogott.', 'Sohasem láttam még ilyen tündöklõ égboltot, mint ezen az éjjelen.', 'Acélkeményen és mégis csillogva feszült fölöttem, lüktetve tüzelt, szinte csurgott a fénytõl, mely a holdból és a csillagokból sugárzott alá, mintha az ég titokzatos méhében parázslott volna.', 'A holdfényben a hajó lakkozott szélei fehéren villantak ki a tenger sötétjébõl, a kötelek és feszítõdrótok a hajó körvonalaival együtt teljesen feloldódtak a fényözönben, az árboclámpák és fényszórók kerek szemei pedig mintha csak az ûrben lógtak volna, sápadt, földi csillagok az égbolt ragyogó csillagai között.', 'Fejem felett a mágikus csillagkép, Dél Keresztje égett, szikrázó gyémántokkal a láthatatlan semmibe szegezve, s mintha imbolygott volna, pedig csak a hajó ringott alattam - ez a ziháló mellkasú, úszó óriás, amint fel és alá, fel és alá, remegve szelte a sötét hullámokat.', 'Csak álltam, és néztem a magasba: mint valami fürdõben, langyos víz esõzött rám; ez a langyos fény fehéren és lágyan végigöblítette kezemet, puhán elöntötte arcomat, sõt mélyebbre hatolt, mert egyszerre szétoszlott bennem minden homály.', 'Tisztán és felszabadultan fellélegeztem.', 'Elragadtatottan ízleltem, mint egy tiszta italt, a puha, dús és mámorító levegõt, melybe gyümölcsök illata, távoli szigetek lehelete vegyült.', 'Most, igen, mióta a hajóra léptem, most elõször fogott el a vágy, hogy álmodozzam, és az a még érzékibb gyönyörûség, hogy asszonyok módjára átadjam magam ennek az ölelõ, elemi puhaságnak.', 'Szerettem volna hanyatt fekve bámulni a fehér hieroglifák rejtélyeibe.', 'De a nyugágyakat elrakták, a fedélzet üres volt, sehol sem találtam valami alkalmatosságot, ahol nyugodtan álmodozhattam volna.', 'Tovább botorkáltam tehát, egészen a hajó orráig, és szinte megvakított a fény, mely a tárgyakból is egyre erõsebben záporozott rám.', 'Szinte fájt ez a mészfehér, hevesen izzó csillagsugárzás, el szerettem volna bújni elõle, valami árnyékba húzódni, hogy ne engem verdessen a csillogásával, hanem csak a tárgyakat körülöttem, s úgy szemlélhessem tündöklésüket, ahogy egy tájat néz az ember a szobák sötétjébõl.', 'Kötelekbe, vastönkökbe botolva bukdácsoltam elõre a hajó éléig, és néztem a tengert, ahogy az olvadt holdfény buzogva hasadt ketté az acéltest két oldalán.', 'A hajó orra felemelkedett, majd ismét alámerült a feketén tajtékzó habokba, s a leigázott elemek minden kínját, az emberi erõ minden gyönyörûségét átéltem ebben a szédítõ játékban.', 'Az idõ megállt felettem.', 'Percekig vagy órák hosszat álltam így, nem tudom; fel- és alámerülve a hajó roppant bölcsõje az idõtlenségbe ringatott.', 'Éreztem, hogy lassan elbágyadok, de ez a bágyadtság gyönyörûség volt.', 'Aludni, álmodni szerettem volna, és mégsem akartam kiszakítani magam ebbõl a varázslatból, hogy kabinomba temetkezzem.', 'Véletlenül egy kötélcsomóba botlottam.', 'Letelepedtem, de lehunyt szemmel sem merültem sötétbe, mert az ezüstös csillogás pilláimon is áthatolt.', 'Alattam halkan zubogott a víz, felettem pedig füllel nem is hallhatón zúgott a világegyetem fehér áradata.', 'És lassan vérembe hatolt a zúgás: szinte elvesztettem öntudatomat, elfelejtettem, hogy ez a lüktetés bennem ver vagy a hajó messze dobogó szívében - belevesztem, feloldódtam a lázasan pezsegõ világmindenség éjszakájába.', 'Száraz, halk köhécselésre rezzentem fel.', 'Már csaknem részeg álmodozásomból felriadva, ismét kinyitottam a szemem, s a fehér tündökléstõl elvakultan pislogtam körül.', 'Szemben velem, az árnyékos korlátnál mintha szemüveg villant volna, majd izzó fényfoltot láttam, egy pipa kerek parazsát.', 'Hol a tajtékos mélybe, hol pedig a távoli csillagképekre bámulva nem vettem észre, hogy van itt még valaki, holott nyilván egész idõ alatt itt ült mozdulatlanul.', 'Félkábultan és önkéntelenül is németül dadogtam: - Bocsánat...', '- Ó, kérem...', '- hangzott a válasz a sötétbõl, szintén németül.', 'Kimondhatatlan furcsa és szorongató érzés volt, ahogy ott ültünk egymás mellett a sötétben, láthatatlanul.', 'Mintha ugyanúgy rám szegezte volna tekintetét, ahogy én meredtem õrá: de a fehéren izzó fényözönben csak árnyékba mosódott körvonalakat láttunk egymásból.', 'Lélegzetvételét és pipája szörcsögését hallottam csupán.', 'Elviselhetetlen volt ez a némaság.', 'Legszívesebben odábbálltam volna, de nem akartam ilyen mogorván viselkedni.', 'Zavaromban rágyújtottam.', 'Gyufám sercegett, és egy pillanatra fény villant a homályba.', 'Az idegen, szemüveges arcot még sosem láttam a hajón, sem az étteremben, sem a fedélzet sétányain.', 'Lehet, hogy a fény bántotta a szemét, vagy talán csak képzelõdtem: arckifejezése torz volt és gnómszerû.', 'Mielõtt azonban alaposan szemügyre vehettem volna, a fellobbanó fényben derengõ arcvonásokat ismét elnyelte a sötétség, és nem láttam mást, csak a sötétbe merült alak körvonalait meg a pipa tûzkarikáját, amint hébe-hóba felizzott a semmibõl.', 'Mindketten hallgattunk, s ez a némaság fullasztó volt, mint a trópusi levegõ.', 'Végül nem bírtam már a csendet.', 'Udvariasan jó éjt kívánva felálltam.', '- Jó éjszakát - hangzott a homályból az érdes, rekedt és berozsdásodott hang.', 'Nagy üggyel-bajjal botorkáltam a kötélzeten és a cölöpökön keresztül.', 'Ekkor sietõs, tétova lépteket hallottam.', 'Az idegen volt.', 'Önkéntelenül megálltam.', 'Nem jött egészen hozzám, lépteibõl mintha valami elfogódott szorongás hatolt volna felém a sötétben.', '- Bocsásson meg - szólt gyorsan -, kérni szeretnék valamit.', 'Nekem...', 'nekem...', '- elakadt, és zavarában alig tudta folytatni - magánjellegû, egészen külön okom van arra, hogy így elvonuljak...', 'Haláleset...', 'kerülöm az embereket a hajón...', 'én nem önt, nem úgy értem...', 'Csak arra szeretném kérni...', 'Nagyon lekötelezne, ha nem szólna a hajón senkinek, hogy itt látott engem...', 'Igen, sajátos...', 'hogy úgy mondjam, teljesen személyi okból kerülöm most az embereket...', 'nos...', 'igen...', 'kínos lenne nekem, ha megemlítené, hogy valaki itt éjszaka...', 'szóval, hogy én...', 'Ismét elfulladt a szava.', 'Röviden eloszlattam aggodalmát, megígértem, hogy megteszem, amit kér.', 'Kezet szorítottunk.', 'Aztán visszatértem a kabinba, és tompa, igen zavaros, nyugtalan álomba merültem.', 'A hajón, ígéretemhez híven, nem beszéltem senkinek a különös találkozásról, bár elég nehezen álltam a hallgatást.', 'Mert a tengeren már a legjelentéktelenebb apróság is esemény, akár egy vitorlás a láthatáron, egy felszökkenõ delfin, friss keletû flört vagy röpke tréfa, egyszóval minden.', 'Emellett gyötört a kíváncsiság, hogy a szokatlan idegenrõl többet is tudjak: átböngésztem a hajólistát, talán rábukkanok egy névre, melyrõl ráismerhetek, végigmustráltam az utasokat, hátha valamelyik kapcsolatban áll vele - egész nap idegesen és türelmetlenül jártam-keltem, s tulajdonképpen csak az estét vártam, hogy találkozunk-e újra?', 'Rejtelmes lélektani esetek valósággal nyugtalanítóan hatnak rám, szinte lázba hoznak, hogy megfejtsem õket, s különös emberek már puszta jelenlétükkel olyan szenvedélyes ismeretvágyat oltanak belém, melyet szinte az asszonybirtoklás vágyához kell hasonlítanom.', 'Nagyon hosszúra nyúlt ez a nap, üresen pergett az ujjaim között, akár a homok.', 'Korán feküdtem le: tudtam, hogy éjfélkor úgyis felébredek, felkelt az éj.', 'És valóban: ugyanazon órában, mint elõzõ nap, felébredtem.', 'A foszforeszkáló óramutatók egymást fedve, fénylõ csíkként világoltak felém.', 'Gyorsan kiléptem a fülledt kabinból a még fülledtebb éjszakába.', 'A csillagok éppúgy tündököltek, mint tegnap, a remegõ hajót szétszórt fénybe borítva, fenn, a magasban pedig Dél Keresztje lobogott, akárcsak tegnap - a trópusokon az éjszakák és a nappalok egyformábbak, mint mifelénk -, csak belõlem hiányzott a tegnapi lágy, álmatag, belsõ ringatás.', 'Valami felzaklatott és vonzott, azt is tudtam, hová: a hajóorr sötét szegletébe, hogy megtudjam, vajon a titokzatos idegen ott ül-e megint.', 'Megkondult a hajóharang.', 'Elindultam.', 'Lépésrõl lépésre mentem elõre, nem tudtam, mit akarok, mégis arra tartottam.', 'Még nem voltam a hajó orránál, mikor valami hirtelen felparázslott, mint egy vörös szem - a pipája fénye.', 'Ott ült tehát.', 'Akaratlanul visszahõköltem és megálltam.', 'A következõ pillanatban, mikor tovább akartam menni, a sötétben valami mozgolódást láttam; valaki felállt, közelebb lépett, s máris ott hallottam magam mellett fojtott, udvarias hangját.', '- Bocsásson meg - mondta -, úgy látom, ön a megszokott helyére igyekszik, s most alighanem azért akar visszafordulni, mert engem itt talált.', 'Csak tessék, üljön le, én úgyis megyek már.', 'Igyekeztem marasztalni, és magyarázkodtam: én csak azért torpantam vissza, nehogy õt zavarjam.', '- Engem nem zavar - válaszolta kissé keserûen -, sõt, örülök, ha végre egyszer nem kell egyedül gubbasztanom.', 'Tíz napja...', 'jobban mondva már esztendõk óta egy árva szót sem váltottam senkivel...', 'és néha már nagyon nehéz így élni, szinte megfullad az ember, hogy mindent csak magába fojt...', 'Odalent, a kabinban nem bírom már...', 'abban...', 'abban a koporsóban...', 'nem bírom...', 'És az embereket sem tudom elviselni, egész nap csak nevetgélnek...', 'Ez most számomra elviselhetetlen...', 'lehallatszik a kabinomba, és én még a fülemet is betömöm...', 'Persze, ön nem tudja...', 'nos, hát nem is tudhatja, és különben is, mi köze hozzá egy idegennek...', 'Elfulladt a hangja.', 'Majd hirtelen, kapkodva így szólt: - De hát nem akarok a terhére lenni...', 'bocsásson meg, hogy annyit fecsegtem.', 'Meghajolt, s távozni akart.', 'Én gyorsan tiltakoztam: - Világért sincs a terhemre.', 'Nekem is jólesik, ha néhány nyugodt szót válthatok valakivel...', 'Parancsoljon...', 'rágyújt?', 'Kivett egy cigarettát; tüzet adtam.', 'A fekete háttérbõl vibrálva lehasadt a tegnapi arc, de most szemtõl szembe láthattam: a szemüveg mögül mohó és zavaros tekintet hatolt felém.', 'Megborzongtam.', 'Éreztem, hogy ez az ember beszélni akar, beszélnie kell! És meg kell hallgatnom, hogy segítsek rajta.', 'Leültünk.', 'Felkínálta a mellette levõ nyugszéket.', 'A két cigaretta parázslott, az övé nyugtalanul remegett a sötétben, tehát reszketett a keze.', 'Mindketten hallgattunk.', 'Aztán halkan megszólalt: - Nagyon fáradt?', '- Nem, csöppet sem! Ismét habozott.', '- Szeretnék valamit kérdezni öntõl...', 'pontosabban szeretnék valamit elmondani.', 'Tudom, nagyon is tudom, milyen képtelenség, hogy az elsõ embernek, aki utamba kerül...', 'de hát...', 'én...', 'olyan szörnyû lelkiállapotban vagyok, hogy valakivel mindenképpen beszélnem kell...', 'azt hiszem, belepusztulok...', 'Majd megérti, ha elmondom...', 'Tudom, úgysem segíthet...', 'de én már belebetegedtem a hallgatásba...', 'egy beteg ember pedig mindig nevetséges a többiek elõtt...', 'Közbeszóltam, és kértem, hogy ne gyötörje magát.', 'Csak beszéljen egész nyugodtan...', 'persze nem ígérhetek semmit, de hát az embernek kötelessége, hogy megtegye a magáét.', 'Ha valaki szorult helyzetbe kerül, akkor mégiscsak kötelességünk segíteni.', '- Kötelesség...', 'segíteni...', 'hogy megtegye a magáét...', 'Tehát ön is úgy gondolja, még ön is, hogy az embernek kötelessége...', 'hogy legalább megpróbáljon segíteni...', 'Háromszor is megismételte ugyanezt.', 'Szinte irtóztam ettõl a tompa, szaggatott ismételgetéstõl.', 'Õrült ez az ember?', 'Vagy részeg?', 'Mintha hangosan töprengtem volna, hirtelen egész más hangon folytatta: - Lehet, hogy bolondnak vagy részegnek tart.', 'Nem, nem vagyok bolond, még nem.', 'De amit mondott, az a szó, annyira megkapott...', 'éppen ez az, ami most kínoz...', 'hogy vajon kötelessége...', 'Megint dadogni kezdett.', 'Elhallgatott, majd újabb lendülettel folytatta: - Én ugyanis orvos vagyok.', 'És mi, orvosok, gyakran kerülünk olyan...', 'olyan végzetes helyzetbe, hogy nem tudjuk, kötelességünk-e, hogy...', 'mert hiszen nemcsak egyféle kötelesség létezik...', 'nemcsak másokkal és az állammal és a tudománnyal, hanem önmagával szemben is vannak az embernek kötelességei...', 'Persze segíteni mindig kell, hiszen ezért vagyunk itt...', 'de hát ezek elvek...', 'csupa elmélet...', 'Meddig kell segíteni, hol a határ?', 'Például ön számomra vadidegen, én is az vagyok önnek, és én most megkérem, ne beszéljen arról, hogy itt látott engem...', 'rendben van, ön ezt kötelességének érzi és hallgat...', 'Aztán arra kérem, hogy hallgasson meg, mert belepusztulok a némaságba...', 'Ön pedig hajlandó meghallgatni...', 'ez is rendben van...', 'Csakhogy mindez könnyû dolog ám...', 'Mert ha most megkérném, hogy csípjen nyakon és hajítson be a tengerbe...', 'mindjárt elpárologna ez a nagy szolgálatkészség...', 'Valahol ennek is van határa...', 'mikor már a saját bõrünkre és felelõsségünkre megy a játék...', 'Valahol a kötelességérzet is csütörtököt mondhat...', 'Vagy talán éppen egy orvosnál nem fordulhat elõ?', 'Az orvos mindig csak megváltó lehet, világ üdvözítõje, csupán azért, mert latin nyelvû diplomát nyomtak a kezébe?', 'Valóban dobja oda az életét, ereibe pedig pumpáljon vizet, ha egy nõ...', 'ha valaki beállít, és arra kéri, hogy nagylelkûen segítsen rajta?', 'A kötelességnek is van határa...', 'igen, éppen ott, ahol az ember többre nem képes már...', 'Ismét elakadt, majd hirtelen felugrott.', '- Bocsásson meg...', 'máris úgy felhevültem...', 'pedig nem vagyok részeg...', 'még nem...', 'bár bevallom, mostanában gyakran elõfordul...', 'igen, ez a pokoli magányosság...', 'Képzelje csak el, hét évig szinte mást se láttam, csak bennszülötteket és állatokat...', 'ezek között rendesen beszélni is elfelejt az ember.', 'Mikor aztán megered a szava, mindent elborít...', 'De várjon csak...', 'igen, tudom már...', 'kérdezni akartam valamit...', 'elmondok egy esetet, hogy vajon kötelességünk-e segíteni...', 'tiszta, szinte angyali kötelességtudással segíteni...', 'Csak az a baj, hogy a történet elég hosszadalmas.', 'Valóban nem fáradt?', '- Higgye el, hogy nem.', '- Igazán...', 'igazán köszönöm...', 'Velem tart?', 'Hátranyúlt a sötétbe.', 'Valami összekoccant, kettõ vagy három, de mindenesetre jó néhány üveg lehetett, melyeket odakészített maga mellé.', 'Egy pohár whiskyt nyújtott felém.', 'Én éppen csak megkóstoltam az italt, õ viszont egyszerre felhajtotta.', 'Néhány percig hallgattunk.', 'Akkor megszólalt az óra: fél egyet ütött.', '- Tehát...', 'egy esetet szeretnék elmondani.', 'Képzeljen el egy orvost...', 'egy városkában...', 'azaz inkább vidéken...', 'egy orvost, aki...', 'aki...', 'Ismét elakadt.', 'Aztán hirtelen odarántotta a székét az enyém mellé.', '- Hát ez így nem megy! Mindent el kell mondanom önnek, tövirõl hegyire, különben nem érti az egészet...', 'Ez nem olyan dolog, hogy csak úgy példálózva ki lehessen fejteni, mint valami elméletet...', 'tudniillik rólam van szó.', 'Szégyen ide, szégyen oda, nem bujkálhatok...', 'elõttem is levetkõznek az emberek, megmutatják az ótvarukat, vizeletüket, ürüléküket...', 'ha egyszer azt akarja az ember, hogy segítsenek rajta, akkor nem kertelhet és titkolózhat...', 'Tehát most nem az egyszeri orvos esetét mesélem el önnek, hanem meztelenre vetkõzöm, és kimondom: magamról beszélek...', 'A szégyenkezésrõl úgyis leszoktam már ebben a rühes magányosságban, azon az átkozott vidéken, ami kiöli az emberbõl a lelket, és a velejét is kiszipolyozza.', 'Ekkor megmozdulhattam, mert hirtelen szinte saját szavába vágott: - Persze, ön tiltakozik...', 'tudom, hogy most egészen el van ragadtatva Indiától, a templomok és pálmák látványától, beleszédült egy kéthónapos kéjutazás romantikájába.', 'Igaza van, vonatból, autóból vagy riksából nézve a trópusok varázsa csodálatos; nekem is ez volt a véleményem, mikor hét éve idekerültem.', 'Mennyi mindenrõl álmodoztam én akkor, nyelveket akartam tanulni, és eredetiben olvasni a szent könyveket, tanulmányozni az itteni betegségeket, belemerülni a tudományba, feldolgozni a bennszülöttek pszichéjét - odaát, európai zsargon szerint így mondják, ugyebár?', '-, az emberiség és a civilizáció misszionáriusa lettem volna.', 'Aki csak idevetõdik, mind ugyanezt az álmot kergeti.', 'Ám ebben a láthatatlan üvegházban minden erõ elpárolog az emberbõl, hiába tömi magát kininnel, a láz nyakon csípi, elernyed, ellustul, és roncs lesz belõle.', 'Az ember, amikor a nagyvárosokból egy ilyen isten háta mögötti helyre kerül, mintha Európába mélyedõ gyökereit elvágva, legbensõbb lényegétõl fosztanák meg: elõbb vagy utóbb mind összeroppan, egyik iszik, a másik ópiumot szív, a harmadik verekszik, és olyan lesz, mint egy vadállat - a téboly mindegyiket meglegyinti kissé.', 'Az ember újra Európába vágyakozik, s arról álmodik, hogy egyszer ismét végigsétál egy utcán, barátságos, kõbõl épült házban fehér emberekkel beszélget.', 'Esztendõkön át kísért ez a vágyálom, s mikor aztán eljön az idõ, és szabadságra mehetne, már ahhoz is renyhe, hogy elinduljon.', 'Tudja azt is, hogy odaát már elfelejtették, idegennek számít, nem több, mint üres kagyló, melyre mindenki rátapos.', 'Így hát ottragad, elsüpped és felbomlik e forrón gõzölgõ erdõk gyomrában.', 'Elátkoztam a percet, mikor erre a nyomorult életre adtam a fejem...', 'Különben nem egészen jószántamból tettem.', 'Németországban tanultam, annak rendje és módja szerint doktorrá avattak, még állásom is volt a lipcsei klinikán.', 'Az Orvosi Közlöny valamelyik ócska évfolyamában sokat firkáltak arról a szérumról, melyet én alkalmaztam elõször.', 'Akkor aztán közbejött egy nõhistória, valaki, akivel a kórházban ismerkedtem meg.', 'A nõ megõrjítette a szeretõjét, annyira, hogy revolverrel rálõtt, s csakhamar én is éppoly tébolyult lettem, mint az.', 'Olyan gõgös és hideg volt ez a nõ, hogy tombolni kellett tõle! Már megkaparintott néhány parancsolgató hajlamú, arcátlan némber, de ez úgy hétrét görnyesztett, hogy a csontjaim ropogtak belé.', 'Azt csináltam, amit akart, én pedig - nos hát, mért ne beszéljek róla, hét éve már ennek - a kórház pénzéhez nyúltam, s mikor kipattant a dolog, kezdõdött a tánc! Egyik nagybátyám valahogy elsimította az ügyet, s én eliszkolhattam, de a karrieremnek befellegzett.', 'Éppen akkor hallottam, hogy a holland kormány orvosokat toboroz a gyarmatokra, s még elõleget is ígér.', 'Finom dolog lehet - gondoltam én -, ha még elõleget is ajánlgatnak.', 'Tudtam, hogy ezekben a maláriafészkekben háromszorta gyorsabban szaporodnak a fejfák, mint nálunk, de ifjúkorában az ember azt hiszi, láz és halál mindig csak másokat teper föld alá.', 'Nem nagyon válogathattam, Rotterdamba utaztam, tíz évre leszerzõdtem, kezembe nyomtak egy elég csinos bankjegyköteget, felét hazaküldtem nagybátyámnak, a másik fele pedig elúszott a kikötõben, az egészet kiszedte belõlem egy némber.', 'Könnyû dolga volt, mert pokolian hasonlított ahhoz a másik macskához...', 'Pénzem, órám és illúzióim tehát mind otthagytam Európában, s mikor felhúztuk a horgonyt, bizony nem is nagyon bánkódtam.', 'Ott ültem a fedélzeten, mint ön, Dél Keresztjét néztem, meg a pálmákat - megdobbant a szívem, és egyre álmodoztam: \\x81CMicsoda erõk, csend és magány vár rám!” Hát igen, ami a magányt illeti, azt megkaptam! Nem Batáviába vagy Szurabájába, vagy valami más városba helyeztek, ahol emberek élnek, klubok vannak, golfoznak, könyveket és újságokat lehet olvasni, hanem - ej, hát a név már igazán nem lényeges - valamelyik távoli kerületbe, ahonnét a legközelebbi város kétnapi utazást jelent.', 'Néhány unalmas, besavanyodott hivatalnok, egy-két félvér jelentette a társaságot, körös-körül pedig végtelen erdõk, ültetvények, bozót és mocsár.', 'Eleinte még elviseltem valahogy.', 'Különbözõ tanulmányokba merültem.', 'Egyszer, mikor az alkormányzót egyik körútján autóbaleset érte, és összezúzta a lábát, minden segítség nélkül olyan mûtétet hajtottam végre, hogy sokáig beszéltek róla.', 'Mérgeket és bennszülött fegyvereket gyûjtöttem, ezer aprósággal foglalkoztam, hogy lelket öntsek magamba.', 'Mindez csak addig tartott, míg az Európából hozott energia még dolgozott bennem: akkor aztán beadtam a kulcsot.', 'Az a néhány európai untatott, nem is érintkeztem velük - csak ittam, és álmaimba merültem.', 'Hiszen már csak három évem volt hátra, akkor aztán megszabadulok, nyugdíjam lesz, visszatérhetek Európába új életet kezdeni.', 'Úgyszólván egyebet sem csináltam, csak vártam, csendesen gubbasztva vártam.', 'Talán még most is ott gubbasztanék, ha az a nõ...', 'igen, ha nem jön közbe valami.', 'A hang a sötétben elhallgatott.', 'A pipa sem parázslott már.', 'Olyan csend lett, hogy a hajónak csapódó víz sustorgását s a gépház távoli, tompa zihálását is hallottam.', 'Szerettem volna rágyújtani, de féltem a gyufa fellobbanó fényében tükrözõdõ arctól.', 'Egyre csak hallgatott.', 'Nem tudtam, vajon befejezte már, vagy csak elkábult és alszik, olyan halotti volt a csönd.', 'Ekkor megkondult a hajóóra: erõteljesen, áthatóan egyet ütött.', 'Az idegen felrezzent: ismét a palackok közt matatott, mert üvegkocogást hallottam, nyilván megint whisky után nyúlt.', 'Kortyolás hallatszott, majd még lobogóbb szenvedéllyel újra beszélni kezdett: - Nos igen...', 'megálljon csak...', 'igen, így történt.', 'Ott ülök abban az átkozott fészekben, hónapok óta gubbasztok mozdulatlanul, akár a pók a hálójában.', 'Az esõs évszak múlt el éppen, heteken át csorgott a víz a tetõn, nem jött hozzám senki, nem láttam egyetlen európait, nap nap után sárga némbereimen kívül nem láttam senkit, csak jó öreg whiskym iszogattam.', 'Nagyon el voltam már keseredve, megint elkapott az Európa utáni vágyakozás nyavalyája: ha európai utcákról és fehér asszonyokról olvastam, a kezem is beleremegett.', 'Nem tudom kellõképpen érzékeltetni ezt az állapotot, ez valami trópusi kór, dühödt, lázas és mégis erõtlen nosztalgia, mely idõnként hatalmába keríti az embert.', 'Így üldögéltem akkor is, s úgy emlékszem, egy térképet nézegetve utazásokról álmodoztam, terveket szõttem.', 'Hirtelen izgatott kopogást hallok, kitágult, csodálkozó szemmel a boyom és az egyik szolgáló áll az ajtóban.', 'Nagy hûhóval mesélik, hogy egy hölgy van itt, egy lady, igazi fehér asszony.', 'Felpattanok.', 'Sem kocsirobogást, sem motorzajt nem hallottam.', 'Fehér nõ ebben az õsvadonban?', 'Indulok le a lépcsõn, aztán visszafordulok.', 'Egy pillantás a tükörbe, kapkodva rendbe szedem magam.', 'Ideges és nyugtalan vagyok, valami kellemetlen elõérzet kínoz, hiszen kerek e világon nem tudok senkit, aki barátságból hozzám jöhet.', 'Végül lemegyek.', 'A hölgy a hallban vár, s türelmetlenül elém siet.', 'Arcát sûrû autófátyol takarja.', 'Üdvözölni akarom, õ azonban közbevág: - Jó napot, doktor - szól kifogástalan, szinte már túl folyékony angolsággal, mintha elõre betanult szöveget mondana.', '- Bocsásson meg, hogy így berontok magához, de épp erre jártunk, a kocsi nem messze vár.', '(Mért nem hajtott ide a ház elé?', '- villan át az agyamon.) És akkor eszembe jutott, hogy itt lakik, és már annyi jót hallottam magáról, hiszen valóságos csodát mûvelt az alkormányzóval, a lába megint teljesen all right, már úgy golfozik, mint azelõtt.', 'Igen, odaát mindenki magáról beszél, mi pedig boldogan elcserélnénk mogorva felcserünket másik két társával együtt, ha átjönne hozzánk.', 'Különben mért nem mutatkozik soha mifelénk?', 'Úgy él itt, mint valami jógi...', 'És áradt belõle a szó, egyre sebesebben, engem nem is hagyott szóhoz jutni.', 'Ideges és izgatott csacsogása valahogy nyugtalanítóan hatott rám.', 'Minek beszél annyit - kérdeztem magamban -, mért nem mutatkozik be, mért van rajta még mindig ez a fátyol?', 'Talán lázas?', 'Beteg?', 'Vagy õrült?', 'Egyre jobban idegesített, és éreztem, mennyire nevetséges, ahogy némán ácsorgok elõtte, miközben elönt a fecsegés áradata.', 'Végre szóhoz jutottam, hogy beljebb tessékeljem.', 'A boyt leintette, hogy maradjon hátra, s felsuhant elõttem a lépcsõn.', '- Milyen csinos a szobája - mondta odafent, miután körülnézett.', '- Ó, mennyi szép könyv! El szeretném olvasni mind! A könyvespolchoz lépett, és a címeket böngészte.', 'Mióta belépett a házba, elõször maradt csendben egy pillanatig.', '- Megkínálhatom egy csésze teával?', '- kérdeztem.', 'Meg se fordul, csak a könyveket nézegeti tovább...', '- Nem, doktor, köszönöm...', 'máris megyünk tovább...', 'pár percem van csak...', 'csupán egy rövid kirándulást tettem önnél...', 'Ó, még Flaubert is akad itten...', 'imádom Flaubert-t...', 'milyen csodálatos az Éducation Sentimentale...', 'látom, franciául is olvas...', 'Hogy maga mennyi mindenhez ért!...', 'Hát igen, a németek, a német iskolák...', 'Nagyszerû dolog lehet, ha valaki ennyi nyelven beszél! Az alkormányzó tûzbe menne magáért, váltig mondja, ön az egyetlen, akinek a késére rábízná magát...', 'mert a mi derék sebészünk éppen csak bridzspartnernak jó...', 'Egyébként ma épp arra gondoltam - még mindig háttal állt nekem -, hogy egyszer már meg kellene vizsgáltatnom magam...', 's miután erre jártunk...', 'no de most bizonyára nem is érne rá...', 'majd inkább eljövök máskor.', '\\x81CSzínt vallasz hát végre!” - gondoltam.', 'Semmi érdeklõdést sem mutattam, csak közöltem vele, hogy akár most, akár más alkalommal, mindig megtisztel, ha szolgálatára lehetek.', '- Nem komoly a dolog - mondta, miközben féloldalt fordulva egy polcról leemelt könyvben lapozgatott.', '- Nem komoly...', 'semmiség...', 'nõi nyavalya...', 'kis szédülések, ájulás.', 'Ma reggel is, a kocsiban, az egyik kanyarnál összecsuklom, akár valami tetszhalott...', 'a boy vizet hozott, és magamhoz térített...', 'persze, talán túl sebesen hajtott a sofõr...', 'nem gondolja, doktor?', '- Ennyibõl semmit sem tudok megállapítani.', 'Gyakran környékezi efféle ájulás?', '- Dehogy...', 'azaz igen...', 'de csak...', 'az utóbbi idõben...', 'Ismét a könyvszekrény elé áll, visszateszi a könyvet, kiemel egy másikat, és belelapoz.', 'Furcsa, mért lapozgat folyton olyan idegesen, mért nem néz rám a fátyol mögül?', 'Szándékosan hallgatok.', 'Szinte jólesik, hogy így várakoztatom.', 'Végül ugyanabban a csevegõ, könnyed modorban újra beszélni kezd: - Ugyebár, doktor, nem komoly a dolog?', 'Nem valami trópusi história...', 'nincs semmi veszély...', '- Elõször tudnom kell, nincs-e láza?', 'Szabad a pulzusát?', 'Közelebb lépek, de könnyedén kitér elõlem.', '- Nem, nem vagyok lázas...', 'egész biztos, higgye el nekem...', 'mindennap mértem magam, amióta...', 'amióta ezek a rosszullétek kezdõdtek...', 'Semmi láz, mindig pontosan 36,4.', 'A gyomrom is rendben van.', 'Egy pillanatig habozok.', 'Már kezdettõl valami gyanú motoszkál bennem: érzem, hogy ez az asszony akar tõlem valamit, ide az isten háta mögé nem azért jönnek az emberek, hogy Flaubert-rõl csevegjenek.', 'Néhány percig váratom.', '- Bocsásson meg - mondom végül határozottan -, szabad néhány õszinte kérdést megkockáztatnom?', '- Csak rajta! Hiszen orvos - ismét hátat fordít, s a könyvek közt matat.', '- Volt már gyermeke?', '- Igen, egy fiú.', '- És annak idején...', 'tehát akkoriban nem érzett hasonló rosszullétet?', '- De igen! Hirtelen megváltozott a hangja.', 'Határozott és kimért lett, nem olyan idegesen csacsogó.', '- És lehetséges, hogy...', 'ne haragudjék a kérdésért...', 'hogy most is hasonló állapotban van?', '- Igen! Mintha kést ejtene földre, oly élesen koppan a válasz.', 'Félrefordított arca meg se rezzen.', '- Akkor talán az lenne a legjobb, asszonyom, ha alaposan megvizsgálnám...', 'Kérem...', 'fáradjon át a másik szobába.', '- Erre hirtelen megfordul.', 'A fátyol mögül, érzem, hideg és elszánt tekintet hatol felém.', '- Nem...', 'erre semmi szükség...', 'én pontosan tudom, mi a bajom! Egy pillanatra csend lett.', 'Ismét egy teli pohár csillant a sötétben.', '- Hát hallott már ilyet...', 'Képzelje csak el! Valaki ott rohad abban a magányban, s egyszerre beront hozzá egy nõ, évek óta az elsõ fehér asszony...', 'Én mindjárt éreztem, hogy valami nincs rendjén, veszély fenyeget.', 'Szinte megborzongtam ennek az asszonynak acélkemény határozottsága láttán: csacsogva beállít hozzám, s mindjárt nekem szegezi követelését, mintha kést szorítana a torkomra.', 'Mert azonnal tudtam, mit akar, nemegyszer jöttek már asszonyok hozzám ilyesmivel, de azok másképp állítottak be, szégyenlõsen és félénken, szepegve könyörögtek.', 'Ez pedig...', 'ez a kemény, férfias határozottság...', 'már az elsõ percben tudtam, hogy ez az asszony erõsebb nálam...', 'hogy akaratával bármire rákényszeríthet...', 'De bennem is volt...', 'volt bennem valami komisz berzenkedés...', 'valami elkeseredett férfigõg, mert...', 'hiszen már mondtam...', 'elsõ pillantásra, sõt még mielõtt megláttam, ellenségemnek éreztem õt.', 'Ismét hallgattam.', 'Makacsul, elkeseredetten hallgattam.', 'Éreztem, hogy a fátyol mögül végigmér, kihívón mered rám, hogy szólásra bírjon.', 'De én nem adtam olyan könnyen! Beszélni kezdtem, de kitérõen, önkéntelenül az õ fecsegõ, közömbös modorát utánozva.', 'Színleltem, mintha nem érteném, mit akar - talán el tudja képzelni, mi volt a célom: rá akartam kényszeríteni, hogy színt valljon, ne követelõzzék, hanem könyörögjön...', 'éppen azért, mert olyan parancsoló volt a fellépése, és tudtam, hogy nõknél pontosan ez a fensõbbséges, hideg modor van rám oly lenyûgözõ hatással.', 'Hetet-havat összehordtam hát, hogy mindez szóra sem érdemes, ez a rosszullét ennek az állapotnak természetes kísérõ tünete, sõt éppen ez mutatja, hogy minden a legnagyobb rendben van.', 'Klinikai folyóiratokból különbözõ eseteket idéztem...', 'egyre csak beszéltem, hanyag könnyedséggel, az egész ügyet semmiségnek minõsítve, és vártam, mikor szakít félbe.', 'Mert tudtam, hogy végül elfogy a türelme.', 'Egyszerre élesen közbevágott, s mintha egyetlen mozdulattal elseperte volna, amit megnyugtatására összehadartam.', '- Nem errõl van szó, doktor, nem ez aggaszt engem.', 'Annak idején, mikor a fiam született, kutya bajom se volt...', 'de most nem érzem jól magam, nem vagyok all right...', 'szívbántalmaim vannak.', '- Ó, szívbántalmak - mondtam nyugtalanságot mímelve.', '- Akkor bizony utánanézünk a dolognak.', 'S már nyúltam is a szívhallgató után.', 'De õ ismét letorkolt.', 'A hangja most már nagyon keményen pattogott, akár egy õrmesteré.', '- Megmondtam, hogy a szívem nincs rendben, és szeretném, ha elhinné, amit egyszer mondok.', 'Nem akarok annyi idõt vesztegetni a vizsgálatokkal, szerintem több bizalmat is elvárhatnék öntõl.', 'Azt hiszem, én már bebizonyítottam, mennyire bízom magában.', 'Ez már kihívás volt, nyílt, parázs harc.', 'Tehát kiálltam én is.', '- A bizalomhoz nyíltság kell, teljes õszinteség.', 'Beszéljen õszintén, asszonyom, hiszen orvos vagyok.', 'Mindenekelõtt vesse le fátylát, foglaljon helyet, hagyjon békét a könyveimnek, és ne kerteljen.', 'Lefátyolozva nem szokás orvoshoz jönni.', 'Kiegyenesedve, gõgösen végigmért.', 'Egy pillanatig habozott, aztán leült, és felhajtotta a fátylát.', 'Pontosan olyan arc villant rám, amilyentõl féltem.', 'Kifürkészhetetlen, kemény és fegyelmezett arcán idõtlen szépség tündökölt: angolos, szürke szemének nyugalma mögött vad szenvedély parázslott.', 'A keskeny, összeszorított ajak, ha akarja, minden titkot magába zár.', 'Farkasszemet néztünk - tekintete egyaránt utasított és kérdezett, olyan hideg kegyetlenséggel, hogy nem bírtam sokáig, és önkéntelenül el kellett fordítanom a fejem.', 'Ujjával könnyedén dobolt az asztalon.', 'Tehát õ is ideges! Hirtelen megszólalt: - Tudja, mit akarok magától, vagy nem?', '- Azt hiszem, tudom.', 'De azért beszéljünk egészen világosan.', 'Véget akar vetni ennek az állapotnak...', 'azt akarja, hogy ezektõl az ájulásoktól, rosszullétektõl megszabadítsam...', 'elhárítva...', 'a rosszullét okát.', 'Helyes?', '- Úgy van! - Bárdként csapott le a szó.', '- Remélem, tudja, milyen veszélyes az ilyesmi...', 'mindkét fél számára?', '- Tudom.', '- És azt is, hogy a törvénybe ütközik?', '- Elõfordul, hogy nem tiltott, hanem a törvény szerint is szükséges.', '- Csakhogy ahhoz orvosi javaslat kell.', '- Akkor hát javasolni fogja.', 'Hiszen maga orvos.', 'Szemrebbenés nélkül, mereven nézett rám.', 'Minden szava parancs volt, s én nyomorult, megreszkettem a bámulattól, csodáltam démonikus akaraterejét.', 'De azért lázongtam még, nem akartam elárulni, hogy máris eltiport.', '\\x81CCsak lassan, térj ki elõle, kényszerítsd rá, hogy könyörögjön!” - lázongott bennem valami elégtételvágy.', '- Ez nem mindig az orvostól függ, asszonyom.', 'De ha kívánja, egyik kórházi kollégámmal...', '- Nincs szükségem a kollégáira, én magához jöttem.', '- És ha szabad kérdeznem, mért éppen hozzám?', 'Jeges pillantással végigmért.', '- Semmi okom rá, hogy eltitkoljam.', 'Messze lakik tõlünk, nem tudja, ki vagyok, jó orvos, és végül...', '- most habozott egy kissé - nos, mert aligha marad ezen a környéken, különösen akkor, ha...', 'ha csinos összeggel térhet haza.', 'Hátamon végigfutott a hideg.', 'Ez a ridegen számító, üzleti okoskodás elszédített.', 'Egyetlen kérõ szót nem ejtett még - de már mindent kiforralt; megkörnyékezett, és rajtamütött.', 'Éreztem, hogy ez a démoni akarat levesz a lábamról, mégis elkeseredetten védekeztem tovább.', 'Még egyszer igyekeztem gúnyos tárgyilagossággal fölé kerekedni.', '- S ezt a csinos összeget ön bocsátaná rendelkezésemre?', '- Amennyiben vállalkozik a dologra, és utána mindjárt távozik.', '- Tisztában van azzal, hogy ez esetben elvesztem a nyugdíjamat?', '- Majd kárpótolom érte.', '- Ez elég világos beszéd...', 'De én még tisztábban akarok látni.', 'Mekkora összegrõl lenne szó?', '- Tizenkettõezer.', 'Az utalvány Amszterdamban váltható be.', 'Megremegtem...', 'a dühtõl és...', 'igen, az ámulattól is.', 'Mindent kitervelt, a pontos összeget és a beváltás módját is, hogy elutazásra kényszerítsen.', 'Megvásárolt, akár egy becsüs az árut, s anélkül, hogy ismert volna, hiszen tudta elõre, hogy le fog gyõzni.', 'Legszívesebben arcul ütöttem volna...', 'Ahogy remegve felálltam, õ is felállt, s egymásra meredtünk.', 'S akkor könyörgésre képtelen, összeszorított szája s felszegett, büszke homloka láttán...', 'valami fékezhetetlen vágy kerített hatalmába! Valamit õ is megérezhetett, mert szemöldökét gõgösen felvonta, mintha valami kellemetlent akarna lerázni magáról: már leplezetlenül gyûlöltük egymást! Éreztem, hogy gyûlöl, mert szüksége van rám, és én is gyûlöltem õt, mert nem tudtam könyörgésre bírni.', 'Ez a pillanatnyi hallgatás volt az elsõ õszinte szó kettõnk között.', 'És akkor kígyóként belém mart egy gondolat...', 'és azt mondtam...', 'kimondtam...', 'De várjon csak, esetleg félreérti, amit tettem...', 'amit mondtam...', 'elõször meg kell magyaráznom...', 'miként támadt bennem ez az õrült gondolat...', 'A sötétben ismét megcsörrentek az üvegek.', 'És a hang még izgatottabb lett.', '- Nem mintha mentegetõzni akarnék, hogy tisztázzam magam, és szépítsem a dolgot...', 'De különben az egészet nem értené...', 'Azt hiszem, az úgynevezett jó emberek nem olyanok, mint én...', 'de azért, amikor csak tudtam, segítettem.', 'Hiszen odaát, azon a nyomorult vidéken, az embernek csak egyetlen öröme maradt, hogy azzal a maréknyi tudással, amit a fejébe gyömöszölt, életet leheljen egy-egy roskadozó testbe...', 'Ez amolyan Úristen-gyönyörûsége...', 'Igazán a legszebb emlékeim közé tartozott, ha egy ilyen sárga fickó kígyómarástól dagadt bokával, halálsápadtan és rémülten beállított hozzám, s már elõre üvöltözött, hogy ne vágjam le a lábát, és csakugyan sikerült megmentenem.', 'Akár órák hosszat utaztam, ha lázas asszonyhoz hívtak...', 's gyakran még úgy is segítettem, ahogy most ez a gõgös némber akarta, hiszen már Európában, a klinikán is megtettem ilyesmit.', 'Csakhogy olyankor legalább éreztem, hogy szükség van rám, hogy a haláltól vagy a kétségbeeséstõl mentek meg valakit, ez pedig nagyon is kell az embernek, éppen amikor segítséget nyújt.', 'Ez az asszony pedig - nem tudom, megérti-e - már az elsõ percben annyira felizgatott és felbõszített, ahogy könnyedén és fennhéjázón besétált hozzám...', 'hogy is mondjam...', 'maga ellen uszított minden elfojtott rosszat, ami bennem lappangott.', 'Felbõszített, ahogy a hozzáférhetetlen ladyt játszotta, aki tárgyilagos hangon olyan üzletet bonyolított le, melyben életrõl és halálról van szó...', 'És...', 'és végül...', 'a golfozástól még senki sem esett teherbe...', 'tehát tudtam...', 'igen...', 'üldözött az a visszataszító gondolat, hogy ez a felhúzott szemöldökû, gõgös és hideg teremtés, aki acélos szemével olyan visszautasítóan nézett rám...', 'két vagy három hónappal ezelõtt egy férfival hempergett az ágyban, meztelenül, mint egy állat, s tán nyöszörögve a gyönyörtõl, míg testük egymásra tapadt, mint két összeforrt ajak...', 'Ez volt az a kínzó gondolat, ami hatalmába kerített, amikor olyan közömbösen és büszkén átnézett rajtam, ahogy angol tisztek szoktak nézni...', 'S akkor pattanásig feszült bennem minden, s egyetlen vágyam volt: megalázni ezt az asszonyt! Ettõl a perctõl ruháján át is csak a meztelenségét láttam, s egyetlen célom volt, hogy birtokba vegyem, hogy összeszorított ajkából édes nyöszörgést csikarjak elõ...', 'hogy gyönyörûségtõl reszketve érezzem jeges szépségét, mint az a másik, akit nem ismertem...', 'Ezt akartam valahogy megértetni önnel...', 'Sohasem vadultam el annyira, hogy mint orvos valaha is visszaéljek helyzetemmel...', 'Ez most nem bujaság volt, nem volt benne semmi nemiség, higgye el, hiszen megmondanám...', 'Valami legyõzhetetlen kívánság forrt bennem, hogy gõgjét megtörve, férfiként fölé kerekedjem...', 'Azt hiszem, már mondtam, hogy kevély, látszatra hûvös asszonyok különösen nagy hatással vannak rám...', 'És én már hét éve éltem itt, ez idõ alatt pedig egyetlen fehér nõhöz sem jutottam...', 'Ezek a lányok itt nem ismerik az ellenkezést, ezek a csicsergõ, felcicomázott kis állatkák reszketnek a megtiszteltetéstõl, ha egy \\x81Cfehér úr” leteperi õket...', 'majd elomlanak az alázattól, s halkan bugyogó nevetéssel bármikor követik az embert...', 'De ez a szolgai meghunyászkodás idõvel már émelyít...', 'Megérti hát, mennyire felvillanyozott ez a látogatás?', 'Egy gõgös, gyûlölködõ, állig begombolkozott asszony, ugyanakkor csupa titokzatosság és elfojtott szenvedély...', 'És egy ilyen arcátlan némber beállít egy magányos, asszonyra éhes, eltemetkezett vadember vackába...', 'Ennyit...', 'ezt akartam csak elmondani, hogy a többit is megértse...', 'Tehát eltelve gonosz indulatokkal, parázna meztelenségének gondolatától agyonmérgezve, összeszedtem magam, s hûvös egykedvûséggel kérdeztem: - Tizenkettõezer?...', 'Nem, ennyiért nem vállalom.', 'Rám nézett, és kicsit elsápadt.', 'Gyanította, hogy nem kapzsiságból ellenkezem; mégis megkérdezte: - Mennyit akar hát?', 'Már nem azon a hûvös hangon beszéltem: - Játsszunk nyílt kártyákkal, asszonyom! Nem vagyok üzletember, sem szegény méregkeverõ a Rómeó és Júliá-ból, nekem nem kell a corrupted gold.', 'Sõt meglehet, hogy épp az ellentéte vagyok az üzletembernek.', 'Így aligha fog célt érni nálam.', '- Tehát nem vállalja?', '- Pénzért nem.', 'Teljes csönd lett egy pillanatra.', 'Még a lélegzetét is hallottam.', '- Mi mást kívánhat még?', 'Elvesztettem önuralmamat.', '- Elõször is...', 'azt, hogy embernek tekintsen, ne pedig holmi szatócsnak.', 'Másodszor, ha segítségre van szüksége, ne a rongyos pénzével hozakodjon elõ, hanem kérjen...', 'tõlem, aki ember vagyok, hogy segítsek magán, aki szintén ember...', 'Én nemcsak orvos vagyok, nemcsak rendelõórám van...', 'vannak más óráim is...', 'S talán most épp egy ilyen órában jött hozzám...', 'Egy pillanatig elhallgatott.', 'Szája könnyedén megrándult, s remegõ ajakkal, gyorsan kérdezte: - És ha kérném...', 'akkor megtenné?', '- Már megint üzletet akar kötni.', 'Csak akkor kér, ha elõször ígéretet teszek.', 'Elõször kérnie kell, akkor majd válaszolok.', 'Fejét felszegte, mint egy makacs csikó.', 'Haragosan végigmért.', '- Nem.', 'Kérni nem fogom.', 'Inkább belepusztulok! Engem is elfutott a harag, esztelen, véres düh! - Hát ha nem akar kérni, akkor majd én követelek! Azt hiszem, nem kell világosabban beszélnem, tudja, mit akarok! Ha azt...', 'ha azt megteszi, segítek! Elõször rám meredt.', 'Aztán - ó, ön nem tudhatja, milyen iszonyú volt ez! - megrándult az arca, és...', 'és hirtelen felkacagott...', 'kimondhatatlan megvetéssel arcomba nevetett...', 'én pedig megsemmisülten és ugyanakkor mámorosan álltam elõtte...', 'Olyan kirobbanó és hatalmas volt ez a nevetés, ez a megvetõ kacaj, hogy én...', 'igen, én legszívesebben a földre borultam volna, hogy a lábát megcsókoljam.', 'Egy pillanat volt az egész, s mintha villám sújtott volna, egész testemet elborította a láng...', 'S õ már fordult is, gyors léptekkel ment az ajtó felé.', 'Önkéntelenül utána akartam rohanni, hogy bocsánatot kérjek, megengeszteljem...', 'hiszen már teljesen összeroppantott...', 'S akkor még egyszer visszafordult, és azt mondta...', 'nem, nem...', 'ezt parancsolta: - Ne merészeljen követni, vagy nyomozni utánam...', 'Megkeserülné! S máris bevágta az ajtót.', 'Az idegen ismét tétovázva elhallgatott.', 'Csak a sustorgást hallottuk, mintha a holdfény csobogott volna.', 'Aztán megszólalt: - Az ajtó bevágódott...', 'én mozdulatlanul álltam, mintha az elhangzott parancs megbabonázott volna...', 'Hallottam, amint lemegy a lépcsõn, becsukja a kaput...', 'minden porcikám sóvárgott utána...', 'nem is tudom, mit akartam, visszahívni, megverni vagy megfojtani...', 'csak utána...', 'utána! És mégsem tudtam mozdulni.', 'Megbénultam, mintha villám sújtott volna...', 'szemének parancsoló villanása velõmig hatolt...', 'Tudom, hogy ezt nem lehet elmondani és elmagyarázni, nevetségesen hangzik, de én csak álltam mozdulatlanul...', 'Percekig tartott, talán öt, talán tíz perc is eltelt, míg végre meg tudtam mozdulni.', 'Ám az elsõ lépésnél máris újra lobogott bennem minden...', 'Egy pillanat alatt fürgén lerohantam a lépcsõn...', 'hiszen csak az úton mehetett, ha a telepre vissza akart jutni...', 'berontottam a kocsiszínbe, a kerékpáromért, s akkor látom, hogy a kulcsot fent hagytam.', 'Kitéptem az ajtót, recseg, ropog a bambusz...', 'kerékpárra pattanok, s robogok utána...', 'el kell hogy érjem, mielõtt beszáll az autójába...', 'beszélnem kell vele...', 'Csak úgy porzik utánam az út...', 'most látom csak, milyen sokáig álltam ott dermedten...', 'Ott, ott...', 'ahol az erdei út elkanyarodik, éppen az állomás elõtt jár már, kemény, határozott léptekkel siet elõre, mögötte egy boy...', 'Úgy látszik, észrevett, mert valamit szól a boynak, a fiú visszamarad, és õ egyedül megy tovább...', 'Mit csinál?', 'Miért akar egyedül maradni?...', 'Talán négyszemközt akar velem beszélni?...', 'Még veszettebbül taposom a pedált...', 'Ekkor hirtelen elém ugrik valaki, a boy...', 'Épp hogy el tudom rántani a kormányt, és elvágódom...', 'Átkozódva feltápászkodom, önkéntelenül felemelem az öklömet, hogy a csirkefogó arcába vágjak - de félreugrik...', 'Fogom a gépet, hogy továbbrobogjak...', 'erre a fickó ismét elõugrik, megragadja a kormányt, és szánalmas angolsággal felkiált: \\x81CYou remain here!” Ön nem élt a trópusokon, tehát nem tudja, micsoda arcátlanság, ha egy ilyen sárga fickó egy \\x81Cfehér úr” kerékpárját megragadja, és azt meri mondani: \\x81CItt maradsz!” Válasz helyett ököllel az arcába vágok...', 'megtántorodik, de a gépet nem engedi...', 'Gyáva, kitágult szemében szolgai rettegés - de azért nem enged, makacs, mint egy ördög...', '\\x81CYou remain here!” - dadogja ismét.', 'Szerencsére nem volt nálam revolver, különben lepuffantottam volna.', '\\x81CTakarodsz, te bitang!” - kiáltom.', 'Megszeppenve mered rám, de a gépet azért nem engedi.', 'Még egyszer fejbe vágom, hiába.', 'Elborít a düh...', 'látom, hogy az asszony talán már el is hajtott.', 'Ekkor szabályos bokszütést sózok az álla alá: végighempereg a földön.', 'Végre szabad a gép, de mikor rápattanok, a kerék akadozik, dulakodás közben egy küllõ elgörbült.', 'Lázasan reszketõ ujjakkal próbálom kiegyenesíteni...', 'nem sikerül...', 'A gépet a fickó mellé vágom, aki vérzõ arccal feltápászkodva félrehúzódik...', 'És akkor, nem, ön nem értheti meg, milyen nevetséges az ottaniak elõtt, ha egy európai...', 'de én már azt sem tudtam, mit csinálok...', 'egyetlen gondolat ûzött: csak utána, elérni õt!...', 'És futottam, igen, loholtam, mint egy dühöngõ õrült, végig az úton a kunyhók sora elõtt.', 'A sárga népség pedig csodálkozva bámult utánam: egy fehér ember, a doktor úr...', 'szalad...', 'Csuromvíz voltam, mikor az állomásra értem.', 'Elsõ kérdésem: az autó?...', 'Épp most ment el, mondják...', 'Álmélkodó arcok merednek rám, nyilván õrültnek tartanak, ahogy így mocskosan és koszosan berobogok, már messzirõl kiáltozva, hogy hol az autó, hol az autó...', 'Lent az úton még látom a fehér porfelleget...', 'Tehát sikerült neki...', 'sikerült, mint minden, amit kegyetlen konoksággal eltökélt.', 'Most ugyan kereket oldott, de azért nem menekül - gondoltam.', 'A trópusokon nincsenek titkok...', 'ahány európai, mind ismeri egymást, minden semmiség esemény...', 'Nemhiába üldögélt a kocsivezetõ a hatóság bungalójában...', 'néhány perc, és mindent tudok már...', 'Tudom, hogy kicsoda, és hogy...', 'nos igen, hogy a kormányzóság székhelyén lakik, vonaton nyolc órányira...', 'hogy...', 'mondjuk, egy nagykereskedõ felesége, roppant gazdag, elõkelõ angol hölgy...', 'tudom azt is, hogy a férje öt hónapja Amerikában van, s a napokban érkezik vissza, hogy aztán Európába menjenek...', 'És mint valami méreg, úgy mardos a gondolat, hogy ezek szerint legfeljebb csak két-három hónapja lehet másállapotban...', 'Eddig még mindent meg tudtam értetni önnel...', 'talán azért, mert eddig a pillanatig még én is értettem önmagam mint orvos, el tudtam végezni az öndiagnózist.', 'De ettõl a perctõl fogva mintha lázban égtem volna...', 'nem voltam a magam ura többé, azaz tudtam, milyen esztelenül cselekszem, mégsem voltam képes fegyelmezni magam...', 'Nem értettem, mi történik velem, csak rohantam valami cél felé, mint a megszállott.', 'De várjon csak...', 'talán mégis sikerül megmagyaráznom valahogy...', 'Tudja, mi az ámok?', '- Ámok?...', 'Azt hiszem, igen.', 'A malájoknál...', 'valamiféle részegség.', '- Több annál.', 'Téboly, úgy is mondhatjuk, emberi veszettség.', 'Esztelenül gyilkos, mániás düh, semmi esetre sem hasonlítható egyszerû ittassághoz.', 'Magam is tanulmányoztam néhány esetet, hiszen ha másokról van szó, mindig nagyon bölcsek és tárgyilagosak vagyunk, de sehogy sem tudtam rájönni a félelmetes titok nyitjára.', 'Valamiképp az éghajlattal függ össze, azzal a fülledt, sûrû légnyomással, mely ránehezedik az idegekre: állandó vihar elõtti állapot, s egyszer csak megpattan az emberben valami...', 'Igen, ámok...', 'Elmondom, milyen ez...', 'Egy egyszerû, jóindulatú maláj szép csendesen iddogál valami kotyvalékot...', 'egykedvûen, bambán üldögél, akárcsak én a szobámban...', 'aztán hirtelen felugrik, kést ragad, és rohan elõre...', 'rohan és rohan, maga sem tudja, hová...', 'Embernek vagy állatnak, bárminek, ami útjába kerül, nekiront a késsel, ha vért lát, még jobban felbõszül...', 'Habzik a szája, és õrjöngve üvöltözik...', 'nem hall s nem lát, csak rohan elõre, kezében a véres kés, rohan valami iszonyú cél felé...', 'A falvak népe tudja már, hogy nincs az a hatalom, ami egy ámokfutót feltartóztatna...', 'figyelmeztetésül már elõre kiáltoznak, ha közeledik: \\x81CÁmok! Ámok!” - s mindenki menekül, ki merre lát...', 'Õ meg csak rohan, süketen s elborult szemmel, feldúl mindent, ami útjába kerül...', 'Míg végül lelövik, mint egy veszett kutyát, vagy tajtékzó szájjal összeesik...', 'Egyszer láttam ilyet a bungaló ablakából...', 'mondhatom, iszonyú volt...', 'De ha nem láttam volna, nem érteném, mi lelt engem azokban a napokban...', 'mert szakasztott így, ugyanezzel a félelmetes, elõreszegezett tekintettel, ugyanilyen megszállottan rohantam én is ez után az asszony után...', 'Magam sem tudom már, miként történt mindez abban az õrjöngõ, esztelen sietségben...', 'Tíz vagy öt, vagy talán két perc múlva, miután már mindent tudtam errõl a nõrõl, nevét, címét, élete történetét, kölcsönkért kerékpáron robogtam vissza, néhány holmit dobáltam a táskámba, zsebre gyûrtem valami pénzt, s kocsin az állomásra hajtottam...', 'A kerületi megbízottnál sem jelentkeztem, helyettesrõl sem gondoskodtam, tárva-nyitva hagytam a házat, úgy, ahogy volt...', 'A szolgák körülálltak, az asszonyok álmélkodva faggattak, de én rájuk sem hederítettem, hátra se néztem, csak siettem vissza az állomásra, s az elsõ vonattal be a városba!...', 'Alig egy órája, hogy ez az asszony a szobámba lépett, s én már felrúgtam egész egzisztenciámat, mindent felégettem magam mögött, s mint az ámokfutó, rohantam a semmibe...', 'Fejjel rohantam a falnak...', 'este hatkor érkeztem meg, hat óra tízkor már ott voltam a lakásán, s bejelentettem magam...', 'Persze...', 'hiszen ön is tudja...', 'ennél esztelenebb, ostobább dolgot nem is tehettem volna...', 'de az ámokfutó nem lát, nem hall, elborult, üres szemekkel rohan elõre...', 'Néhány perc múlva az inas visszajött...', 'hûvösen és udvariasan közölte, hogy a nagyságos asszony gyengélkedik, és nem fogadhat...', 'Kitámolyogtam...', 'Még egy órát ott ténferegtem a ház körül, abban az esztelen reményben, hogy hátha mégis hívat...', 'Aztán szobát foglaltam a szállóban, felhozattam két üveg whiskyt...', 'hozzá egy dupla adag veronált...', 's valahogy elaludtam...', 'Ez a tompa, fulladt álom volt az egyetlen pihenõ ebben a vágtatásban élet és halál között.', 'Ismét megszólalt a hajóóra.', 'A két kemény kongatás a mozdulatlan lég lágy tavában továbbgyûrûzött, aztán elvegyült a szakadatlan, halk sustorgással, mely alattunk a mélyben a szenvedélyes beszélgetés alatt is állhatatosan zúgott tovább.', 'Az idegen a sötétben, úgy látszik, megriadt valamitõl, mert elhallgatott.', 'A palackokat tapogatta, majd ismét hallottam a halk kortyolást.', 'Aztán, mintha lecsillapodott volna, határozottabb hangon folytatta: - Aligha tudom elmondani, ami ezután történt.', 'Azt hiszem, lázam volt, mindenesetre olyan túlfeszített állapotban éltem, mely már a tébollyal határos, hiszen már mondtam: akár egy ámokfutó.', 'De ne felejtse el, kedd este érkeztem a városba, s amint megtudtam, az asszony férjének szombaton kellett megérkeznie Jokohamából a P & O gõzössel; tehát csak három napom volt, hogy dûlõre vigyem a dolgot, és segíthessek.', 'Értse meg! Tudtam, hogy azonnal segítségére kell sietnem, és mégsem volt rá mód, hogy beszéljek vele.', 'Éppen az fûtött tovább, hogy nevetséges, ostoba viselkedésemet jóvátegyem.', 'Tudtam, hogy minden perc drága, hogy élet és halál forog kockán, és mégis lehetetlen volt, hogy egyetlen szóval vagy jellel hozzáférjek, hisz éppen az riasztotta el, hogy oly bomlottan és viharosan vettem üldözõbe.', 'Olyan volt ez...', 'igen...', 'mintha valaki rohanna a másik után, hogy egy gyilkostól óvja, de a másik azt hiszi, õ a gyilkos, s egyenesen a vesztébe menekül...', 'Õ csak az ámokfutót látta bennem, aki azért üldözi, hogy megalázza...', 'én pedig - micsoda képtelenség! -, én már nem is gondoltam arra a dologra...', 'hiszen teljesen megsemmisültem már, csak segíteni, szolgálni akartam neki, már ölni tudtam volna, hogy segíthessek...', 'Õ azonban ezt nem értette.', 'Reggel, mikor felébredtem, azonnal hozzásiettem: a boy állt a kapu elõtt, ugyanaz a fickó, akit tegnap agyba-fõbe vertem, s amint meglátott, biztosan engem lesett, besurrant a kapun.', 'Talán azért várt ott, hogy titokban bejelentsen, ha jövök...', 'igen, lehet, hogy így volt...', 'ó, mennyire gyötör most a bizonytalanság, hogy talán mégis fogadni akart...', 'Aztán eszembe jutott a tegnapi szégyen, és nem mertem ismét próbálkozni...', 'a térdem reszketett...', 's a küszöb elõtt sarkon fordultam...', 'elmentem, pedig talán várt rám, gyötrõdve, akárcsak én.', 'Nem tudtam, mitévõ legyek az idegen városban, mely szinte parázslott a talpam alatt.', 'Egyszerte eszembe jutott valami! Máris bevágódtam egy kocsiba, és az alkormányzóhoz robogtam, akit annak idején megmentettem.', 'Bejelentettek.', 'Már akkor lehetett valami elrettentõ a külsõmben, mert ijedt, idegenkedõ pillantással fogadott, bár nyugtalanságát udvariasan leplezte.', 'Lehet, hogy felismerte bennem az ámokfutót...', 'Egyszerûen bejelentettem neki, hogy áthelyezésemet kérem a városba, nem bírom tovább odakint...', 'azonnal be kell költöznöm...', 'Úgy nézett rám...', 'hogy is mondjam...', 'ahogy egy orvos nézi a beteget...', '- Idegösszeomlás, kedves doktor - mondta -, nem csodálom, nagyon is megértem önt.', 'No de majd elintézzük valahogy.', 'Várjon csak...', 'mondjuk négy héten belül...', 'Elõbb helyettest kell találnom.', '- Egyetlen napot sem várhatok! Ismét azzal a különös tekintettel nézett rám.', '- Várnia kell, doktor.', 'Nem hagyhatjuk orvos nélkül a telepet.', 'De megígérem önnek, hogy még ma intézkedem.', 'Ajkamba haraptam: elõször éreztem igazán, hogy eladtam magam.', 'Már ágaskodott bennem az indulat, de õ ügyesen elébe vágott: - Ön elszokott az emberektõl, s ebbe elõbb-utóbb belebetegszik az ember.', 'Mindnyájan csodálkoztunk, hogy soha felénk se néz, és soha nem kér szabadságot.', 'Egy kis kiruccanás kell önnek és fõleg társaság.', 'Legalább ma este jöjjön el a kormányzó fogadására; ott lesz az egész kolónia.', 'Egyesek úgyis már régóta szeretnének megismerkedni önnel, többször érdeklõdtek maga felõl, hogy miért nem mutatkozik soha.', 'Az utolsó mondat hatott rám! Érdeklõdtek felõlem.', 'Talán éppen õ?', 'Egyszerre mintha kicseréltek volna! Gyorsan megköszöntem a meghívást, s megígértem, hogy pontosan ott leszek.', 'Pontos is voltam, túlontúl pontos.', 'Mert mondanom sem kell, hogy türelmetlenségemben elsõnek érkeztem a kormányzóság nagytermébe, a sárga és hallgatag szolganép ringó léptekkel, mezítláb sürgött-forgott körülöttem, s úgy rémlett, mintha a hátam mögött mulatnának rajtam.', 'Talán negyedóráig én voltam ott az egyetlen európai, s önmagammal oly egyedül, hogy miközben nesztelenül készülõdtek körülöttem, még zsebórám ketyegését is hallottam.', 'Lassacskán szállingózni kezdtek a vendégek, néhány hivatalnok jött a családjával, azután megérkezett a kormányzó, s hosszú beszélgetésbe elegyedett velem.', 'Azt hiszem, folyékonyan és talpraesetten felelgettem, míg...', 'míg egyszerre rettenetes izgalom fogott el, torkomra forrt a szó, és hebegni kezdtem.', 'Bár háttal álltam a bejáratnak, hirtelen megéreztem, hogy belépett, hogy itt kell lennie! Nem tudnám megmagyarázni, mi volt ez, de mialatt a kormányzóval beszélgettünk, és szava még a fülemben csengett, éreztem, hogy jelenléte szinte égeti a hátamat.', 'Szerencsére a kormányzó hamar elbúcsúzott, különben egyszerûen faképnél hagytam volna, olyan ellenállhatatlan volt ez a titokzatos vonzás, már annyira sóvárogtam utána.', 'És valóban, ahogy megfordulok, pontosan azon a helyen áll, ahol ösztönösen sejtettem.', 'Sárga estélyi ruhában egy társaság közepén beszélgetett.', 'Szép, keskeny válla, akár az elefántcsont, halványan világított elõ a ruha kivágásából.', 'Mosolygott, de mintha valami feszültség vibrált volna arcvonásaiban.', 'Közeledtem hozzá, nem látott vagy nem akart látni, s elnéztem ezt a mosolyt, mely kedvesen és udvariasan repdesett keskeny ajkán.', 'És ez a mosoly megbabonázott, mert tudtam, hogy hazugság, mûvészet vagy csupán technika, mesteri ámítás az egész.', '\\x81CMa szerda - villant át az agyamon -, szombaton érkezik a hajó a férjével...', 'Hogy mosolyoghat így...', 'ilyen magabiztosan, gondtalanul, miközben hanyagul játszik a legyezõjével, ahelyett, hogy félelmében összeroppantaná?', 'Én...', 'én, az idegen, két napja reszketek attól az órától...', 'idegen létemre teljes szívvel és lélekkel én éltem át az õ félelmét és rettegését...', 'Õ pedig bálba megy, és mosolyog, mosolyog, mosolyog...” A másik teremben megszólalt a zenekar.', 'Megkezdõdött a tánc.', 'Egy idõsebb katonatiszt táncra kérte, õ bocsánatkérõ pillantással megvált a tereferélõ társaságtól, s táncosa karján a másik terembe tartva, elhaladt mellettem.', 'Mikor megpillantott, hirtelen megdermedt az arca - de csak egy másodpercnyi ideig tartott, s mielõtt eldönthettem volna, hogy köszönjek-e, máris barátságosan bólintott felém, futó ismerõsként üdvözölt: - Jó estét, doktor! - s már ott se volt.', 'Nem sejthette senki, mi rejlett e szürkészöld szemekben - és én, én magam se tudtam.', 'Miért üdvözölt?', 'Egyszerre miért árulta el, hogy ismer?', 'Így akart lefegyverezni?', 'Vagy talán közeledni szeretne?', 'Vagy pedig az egész nem volt egyéb, csak a meglepetés zavara?', 'Leírhatatlan izgalom fogott el, robbanni készült mindaz, ami felgyülemlett bennem.', 'Õ pedig hanyagul táncolt partnere karjában, homlokán a gondtalanság hûvös fénye tündökölt...', 'én pedig tudtam, hogy akárcsak én, egyedül arra gondol...', 'mindig ugyanarra...', 'hogy mi ketten szörnyû titkot õrzünk...', 'de õ csak táncol tovább...', 'Ezekben a percekben a félelem, csodálat és a sóvárgó szenvedély még fokozódott bennem, jobban, mint valaha...', 'Nem tudom, figyelt-e valaki engem, de annyi bizonyos, hogy az én viselkedésem sokkal többet árult el, mint amennyire õ leplezte magát.', 'Egyszerûen nem tudtam másfelé nézni, egyre csak õt kellett bámulnom, tekintetem kifürkészhetetlen arcára tapadt, hogy mikor hull le róla egy pillanatra az álarc.', 'De neki, úgy látszik, kínos volt az én merev tekintetem.', 'Mikor táncosa karján visszajött, tiltakozva és parancsolóan rám villant a szeme: ismét megjelent a homlokán az a gõgös és haragos ránc, mint akkor, a szobámban...', 'Csakhogy én...', 'hiszen mondtam már...', 'ámokfutó voltam, nem láttam és nem hallottam semmit.', 'Azonnal megértettem, mit jelent ez a tekintet: ne kelts feltûnést! Türtõztesd magad!...', 'Tudtam, hogy diszkrécióra kér, itt a nyilvánosság elõtt...', 'tudtam, ha most hazamegyek, bizonyosra vehetem, hogy holnap hajlandó fogadni...', 'csak most és itt nem akarja, hogy bizalmaskodásommal feltûnést keltsek...', 'attól félt, és joggal, hogy otrombaságomban botrányt okozok...', 'Amint látja, tudtam és láttam mindent, szürkéskék szeme minden parancsát megértettem...', 'de...', 'de nem bírtam magammal, beszélnem kellett vele.', 'Közelébe támolyogtam, s bár jóformán senkit sem ismertem, elvegyültem a csevegõ társaságban, csak azért, hogy halljam a hangját.', 'Megvert kutyaként, sunyítva bújtam el a tekintete elõl, ha fagyosan átsiklott rajtam, mint ha levegõ vagy akár az ajtófélfa volnék, amelyhez támaszkodtam.', 'De én merev tekintettel, egyetlen szavát, egyetértésének egyetlen jelét szomjazva, csak álltam és álltam a beszélgetõk között, mint akit odaszögeztek.', 'Bizonyára feltûntem már a többieknek is, mert egy lélek sem szólt hozzám, õ pedig szenvedett nevetséges viselkedésem miatt.', 'Mennyi ideig álltam ott, nem tudom, talán ítéletnapig...', 'egyszerûen nem tudtam szabadulni e bûvöletbõl, makacs õrületem megbénított...', 'Õ azonban nem bírta tovább...', 'hirtelen bámulatos könnyedséggel elköszönt az uraktól: - Kissé fáradt vagyok ma...', 'szeretnék korábban lefeküdni...', 'jó éjt! Kötelezõ, hûvös fejbiccentéssel elhaladt elõttem...', 'egy másodpercre még láttam homlokán a szigorú ráncot, aztán már csak fehér és meztelen háta világított felém.', 'Elõször rá se döbbentem, hogy elment...', 'hogy már nem láthatom, és már nem beszélhetek vele ezen az utolsó estén, amikor még megmenthetném.', 'Egy pillanatig dermedten álltam...', 'aztán...', 'De várjon csak...', 'le kell írnom önnek a termet, hogy fogalma legyen, milyen esztelenül és ostobán cselekedtem...', 'Képzelje el a kormányzói palota fényben úszó, csaknem üres nagytermét...', 'egy roppant csarnokot...', 'a párok a táncterembe, az urak a kártyaszobákba széledtek, csak néhány sarokban beszélgetett egy-egy kisebb társaság...', 'Egyszóval e tágas terem fényözönében, ahol minden mozdulat szemet szúrt, õ lassú és könnyed lépteivel, kiegyenesedve végigsuhant, egy-egy köszöntést utolérhetetlen bájjal viszonozva, azzal a fagyos és fejedelmi nyugalommal, mely annyira elbûvölt...', 'Én, mint mondtam, szinte megbénulva álltam ott, és mire felocsúdtam, õ már a terem másik végén tartott, éppen a kijárathoz ért...', 'És akkor...', 'ó, még most is szégyellem magam, ha rágondolok...', 'valami megragadott, és futásra kényszerített, értse meg: futottam, nem mentem, hanem csattogó léptekkel, csörtetve utánafutottam, keresztül az óriási termen...', 'Hallottam lépteim zaját, láttam a rám meredõ, elképedt arcokat, szinte elsüllyedtem a szégyentõl...', 'már futás közben tudtam, hogy õrült vagyok...', 'de visszafordulni már nem lehetett...', 'A kijáratnál utolértem...', 'megfordult...', 'tekintetét acélként döfte belém, orrcimpái reszkettek a dühtõl...', 'már-már hebegni kezdtem, mikor...', 'amikor egyszerre felkacagott...', 'csengõn, gondtalanul, tiszta szívbõl nevetett, s oly hangosan, hogy mindenki hallhatta, így szólt: - Ó, doktor, most jut eszébe a kisfiam receptje?...', 'Ej-ej, ezek a tudós urak...', 'Néhányan, akik ott álltak a közelben, jóindulatúan nevettek.', 'Én szinte megtántorodtam leleményességétõl, mellyel a kínos helyzetet elütötte...', 'Levéltárcámba nyúltam, letéptem egy üres receptlapot, õ hanyagul átvette, köszönetképpen hidegen rám mosolygott, s kilépett az ajtón...', 'Elõször megkönnyebbültem, hogy õrültségemet ilyen nagyszerûen jóvátette, s elütötte a botrányt...', 'Ám azt is tudtam, hogy számomra minden elveszett, s féktelen ostobaságomért jobban gyûlöl a halálnál...', 'százszor és ezerszer kopoghatok ajtaján, mindannyiszor elkerget, mint egy kutyát.', 'Végigtámolyogtam a termen...', 'láttam, hogy minden szem rám mered...', 'különös látvány lehettem...', 'A büfébe mentem, egymás után felhajtottam kettõ, három, négy pohár konyakot, különben összeroskadtam volna...', 'Azután egy mellékajtón titokban kiosontam, mint valami bûnözõ...', 'Semmi kincsért nem mentem volna végig még egyszer azon a termen, hiszen csengõ kacagása még ott visszhangzott a falak között...', 'Csak mentem, magam sem tudom, hová...', 'betértem néhány csapszékbe, és leittam magam, mint aki az utolsó csepp józanságát is el akarja veszíteni...', 'De érzékeim nem tompultak el...', 'ez a kacaj belém ette magát és mardosott, ezt az átkozott csilingelést sehogy sem tudtam elhallgattatni...', 'Ott kóboroltam még a kikötõben, revolverem otthon maradt, különben végeztem volna magammal.', 'Végre hazaindultam, de egyre motoszkált bennem valami!...', '\\x81CIgen, ott, a bal oldali fiókban, ott a revolverem...” S ezzel a gondolattal tértem haza.', 'És esküszöm, nem gyávaság volt az oka, hogy mégsem lõttem fõbe magam...', 'Hiszen számomra megváltás lett volna...', 'csak megnyomom a felhúzott ravaszt, és...', 'De hogy magyarázzam meg önnek?...', 'Úgy éreztem, hogy kötelesség vár rám, még szükség lesz a segítségemre...', 'igen, igen, az átkozott kötelesség...', 'Megõrjített a gondolat, hogy még szüksége lehet rám...', 'hiszen mikor hazavetõdtem; már csütörtök reggel volt, és szombaton...', 'már mondtam, ugye...', 'szombatra várták a hajót...', 'és tudtam, hogy ez az asszony, ez a kevély, gõgös asszony, nem éli túl azt a szégyent, amit a férjétõl és a világtól kell elviselnie...', 'Ó, mennyire gyötört most minden visszahozhatatlanul elfecsérelt pillanat, eszeveszett, elhamarkodott viselkedésem, mellyel meghiúsítottam, hogy még idejében segíthessek.', 'Esküszöm önnek, hogy órákon át járkáltam le s föl a szobámban, törtem a fejem, miként közeledhetnék hozzá, s miként tehetnék jóvá mindent, hogy még segítsek rajta...', 'mert abban biztos voltam, hogy a házába nem enged be többé.', 'Kacagása még ott cikázott az idegeimben, és magam elõtt láttam haragtól reszketõ orrcimpáit is...', 'igen, órák hosszát róttam apró szobámban a métereket...', 'és már hajnalodott, s egyre közeledett a dél...', 'Akkor hirtelen mintha odalöktek volna az asztalhoz, levélpapírt rántottam elõ, és írni kezdtem...', 'mindent leírtam...', 'szinte vinnyogó alázattal írtam, bocsánatáért könyörögtem, õrültnek és gonosztevõnek neveztem magam...', 'és esdekeltem, hogy bízza rám magát...', 'megesküdtem, hogy a következõ órában eltûnök a városból, a kolóniából, ha akarja, az egész világból...', 'Csak bocsásson meg, bízzon bennem, és engedje, hogy segítsek az utolsó, a legeslegutolsó órában...', 'Húsz oldalon át lázasan ömlött belõlem a szó.', 'Õrült és valószínûtlen levél lehetett, mintha delíriumban írtam volna, mert mikor felálltam, ömlött rólam a verejték, forgott velem a szoba, s egy pohár vizet kellett lehajtanom.', 'Megkíséreltem még egyszer végigolvasni, de már az elsõ szónál irtóztam az egésztõl...', 'reszketõ kézzel összehajtottam, borítékot vettem elõ...', 's akkor egyszerre belém villant valami...', 'Tudtam a végsõ, döntõ szót! Megint felkaptam a tollat, és a levél végére odaírtam: \\x81CMegbocsátó válaszát itt várom a szállóban.', 'Ha hét óráig nem kapok semmit, végzek magammal!” Azután felhívattam egy boyt, és elküldtem a levelet.', 'Végre mindent elmondtam! Mindent! Valami csörrent, és elgurult a sötétben.', 'Felindultságában feldöntött egy üveg whiskyt.', 'Hallottam, amint a padlón tapogat, aztán megragadja az üres üveget, és nagy lendülettel a tengerbe hajítja.', 'Néhány percig csend volt, majd újra lázasan beszélni kezdett, még izgatottabban, mint eddig.', '- Már nem vagyok hivõ keresztény...', 'számomra mennyország és pokol nem létezik...', 'és ha van pokol, akkor sem félek tõle, mert semmivel sem lehet rosszabb, mint az a délután ott a szállodában...', 'Képzeljen el egy szûk, átforrósodott, a déli nap hevétõl egyre tüzesebb szobát...', 'benne egy szék, egy ágy és egy asztal...', 'Az asztalon egy óra meg egy revolver, az asztal elõtt pedig egy ember, aki folyton a másodpercmutatót nézi...', 'egy ember, aki már nem eszik és nem iszik, nem dohányzik, és nem mozdul...', 'egyre csak az óra fehér számlapjára, a körbeketyegõ mutatóra mered, három órán keresztül! Igen...', 'így telt el ez a nap...', 'vártam és vártam...', 'ahogy csak egy ámokfutó, egy ilyen konok, maga elé meredõ, esztelen állat várhat.', 'Nos...', 'én nem írom le önnek ezeket az órákat...', 'úgysem lehet...', 'én magam sem értem, hogy élhet túl ilyesmit az ember anélkül, hogy beleõrülne...', 'Egyszóval három óra huszonkettõkor, pontosan tudom, hiszen az órára meredtem...', 'kopognak az ajtón...', 'Felpattanok...', 'ugrom, mint tigris a prédájára...', 'egyetlen lendülettel az ajtóhoz pattanok, kitárom...', 'Ijedt kínai gyerek áll a küszöbön, összehajtogatott papír a kezében...', 'mohón kitépem a markából, s már el is surran.', 'Kibontom a papírlapot, olvasni akarom...', 'de nem tudok olvasni...', 'Szemem elõtt minden összefolyik...', 'képzelje azt a kínlódást! Végre megkapom a választ, s nem tudom elolvasni, a betûk táncolnak elõttem....', 'Fejemet hideg vízbe mártom...', 'lassan felocsúdok...', 'Ismét elõveszem a papírt, és olvasom: \\x81CMár késõ! De maradjon otthon! Talán hívni fogom.” Nevét nem írta alá az összegyûrt, ócska nyomtatványról letépett papírra...', 'Sebtében odavetett kusza betûk, határozott kezével bizonyára nem így szokott írni...', 'nem tudom, miért, de ez az írás megrendített...', 'Valami rettenetes titkot õrzött, és mintha menekülés közben, egy ablakpárkányon vagy robogó kocsin írták volna...', 'Leírhatatlan iszonyat és kapkodó szorongás jeges lehelete csapott meg e kusza levélbõl...', 'és igen...', 'mégis boldog voltam: írt nekem, nem kell még meghalnom, talán segíthetek neki...', 'talán...', 'talán...', 'ó, szinte elvesztem a legképtelenebb tervezgetésekbe...', 'Százszor és ezerszer elolvastam a kis cédulát, megcsókoltam, és újra meg újra átnéztem, hogy talán egy szó elkerülhette a figyelmemet...', 'Egyre jobban belemerültem zavaros álmodozásomba, nyitott szemmel, hihetetlen álomba bódultan...', 'valami bénult hányódás volt ez ébrenlét és alvás között...', 'talán negyedóráig...', 'de talán órákig ültem így...', 'Hirtelen felriadtam...', 'Nem kopogtak?...', 'Lélegzet-visszafojtva vártam...', 'Eltelt egy perc, aztán a második...', 'mozdulatlan csend...', 'Aztán mintha egy egér rágcsálna, újra az a halk, mégis heves kopogás...', 'Felugrottam, támolyogva odamentem az ajtóhoz, felrántottam - ott állt a kis boy, ugyanaz, akinek akkor ököllel az arcába vágtam...', 'Barna képe, hamuszürke, zavart tekintete szerencsétlenséget sejtet...', 'Hátamon végigfutott a hideg.', '- Mi történt?', '- dadogtam.', '- Come quickly* - ennyit mondott, semmi többet.', 'Azonnal rohantam le a lépcsõn, õ utánam...', 'Kis kordé, úgynevezett sado várt a kapu elõtt...', 'beszálltunk...', '- Mi történt?', '- kérdeztem.', 'Reszketve bámult rám, és ajkát összeszorítva hallgatott.', 'Megint kérdem - de csak hallgat, nem felel.', 'Legszívesebben ismét beleöklöztem volna az arcába, de annyira megrendített kutyahûsége úrnõje iránt, hogy nem kérdezõsködtem tovább...', 'Kordénk oly sebesen gördült elõre, hogy az emberek káromkodva rebbentek szét.', 'Az európai negyedbõl már az alsóvárosba értünk, azután még tovább, egészen a kínai negyed lármás zûrzavarába.', 'Végre félreesõ, szûk sikátorba jutottunk, s egy alacsony ház elõtt megálltunk...', 'Piszkos, roskadozó viskó volt, elöl egy kis ablakban faggyúgyertya...', 'olyasféle lebuj, ahol ópiumüzérek és bordélyosok húzódnak meg, tolvajok és orgazdák fészke...', 'A boy hevesen zörgetett...', 'Bentrõl felsziszegett egy hang...', 'Kérdezõsködni kezdett...', 'Nem bírtam tovább, leugrottam a kocsiról, s belöktem az ajtót...', 'egy kínai vénasszony sikoltva rebbent félre...', 'a boy végigvezetett a folyosón...', 'ismét kinyitott egy ajtót...', 'majd sötét helyiségbe értünk...', 'Pálinkabûzt és alvadt vérszagot éreztem...', 'Valaki nyöszörgött...', 'A hang felé botorkáltam...', 'Ismét elfúltak a szavai.', 'Ami ezután feltört belõle, inkább zokogás volt, mint beszéd.', '- Odabotorkáltam...', 'és ott...', 'egy piszkos gyékényen ott feküdt...', 'kínjában fetrengve...', 'egy nyöszörgõ emberi roncs...', 'ott feküdt õ...', 'Nem láttam az arcát, még nem szoktam meg a félhomályt...', 'vaktában tapogatóztam...', 'megfogtam a kezét...', 'lázas, forró kezét...', 'nagyon magas lehetett a láza...', 'Megborzongtam...', 'mindent megértettem...', 'Tehát ide menekült elõlem, megcsonkíttatta magát valami koszos kínai vénasszonnyal, mert annak a titoktartásában jobban bízott...', 'inkább idejött, hogy egy alvilági boszorkány összevagdalja, mert nem bízott bennem...', 'mert én õrült, nem kíméltem a büszkeségét, nem segítettem rajta azonnal...', 'jobban rettegett tõlem, mint a haláltól...', 'Lámpáért kiáltottam.', 'A boy máris ugrott, a visszataszító vénasszony reszketõ kezekkel behozott egy füstölgõ petróleumlámpát...', 'alig bírtam fékezni magam, hogy torkon ne ragadjam ezt a söpredéket...! A lámpát az asztalra tették, sárga, bágyadt fényben derengett a gyékényen az elkínzott test...', 'És akkor egyszerre kitisztult az agyam, elpárolgott a düh és szenvedély minden felgyülemlett salakja...', 'már csak orvos voltam, együttérzõ és megfontolt ember, aki segít a másikon...', 'szinte önfeledten, de éber és tiszta aggyal harcoltam a borzalom réme ellen...', 'Kezem között a meztelen test, melyet oly forrón kívántam, csak anyag és organizmus lett számomra...', 'Akihez hozzányúltam, nem õ volt többé, hanem maga a halállal viaskodó élet, egy rettenetes kínokban fetrengõ ember...', 'Forró, drága vére elöntötte a kezemet, de nem okozott gyönyört, és nem is borzadtam már...', 'csak orvos voltam...', 'csak a szenvedését láttam...', 'és láttam...', 'Igen, láttam, hogy minden hiába, itt már csak csoda segíthet...', 'A hozzá nem értõ, gyilkos kéz összevagdalta, félig elvérzett már...', 'És nem volt nálam semmi, amivel a vérzést csillapíthattam volna, még tiszta víz sem volt ebben a szennyes odúban...', 'Amihez csak hozzányúltam, szinte ragadt a piszoktól...', '- Azonnal a kórházba - mondtam.', 'Alighogy kimondtam, az elkínzott test görcsösen felágaskodott.', '- Nem...', 'nem...', 'csak haza...', 'haza...', 'senki...', 'meg ne tudja...', 'inkább belehalok.', 'Megértettem.', 'Nem az életért, már csak a becsületéért küzdött, egyedül a titkát féltette...', 'És én engedelmeskedtem.', 'A boy hordágyat hozott, óvatosan ráfektettük...', 'olyan sápadt volt már, mint egy halott...', 'és az éj leple alatt hazavittük, a kérdezõsködõ, rémült szolganépet elkerülve, mint a tolvajok lopództunk a szobájába, és bezártuk az ajtót...', 'És akkor...', 'elkezdõdött a hosszú viaskodás a halállal...', 'Keze egyszerre görcsösen karomba markolt, a fájdalomtól és ijedtségtõl majdnem felkiáltottam.', 'Az idegen arca közvetlenül közelrõl meredt rám: láttam fehérlõ, a felindultságtól vacogó fogsorát, és láttam a hold fakó visszfényében óriás macskaszemekként villogó szemüvegét.', 'A többi nem is beszéd volt már, valami õrjöngõ düh rázta ki belõle a szavakat.', '- Hallja-e, maga idegen, maga fedélzeten üldögélõ, békés kéjutazó, tudja, mi az, amikor egy ember meghal?', 'Látott már valaha görcsösen rángó testet, semmibe markoló, elkékült körmöket, mikor a torok kínosan felhörög, minden végtag és minden egyes ujj a borzalommal viaskodik, s a kimondhatatlan iszonyattól kifordul a szem?', 'Átélt már ilyesmit, maga dologtalan, semmittevõ világutazó, aki a segíteni akarásról papol nekem?', 'Mint orvos láttam már elégszer ilyet...', 'elég klinikai esettel találkoztam életemben...', 'úgy is mondhatnám, tanulmányoztam a halált...', 'de csak egyetlenegyszer történt életemben, hogy átéltem az egészet, mert akkor éjjel együtt szenvedtem és együtt haltam meg vele...', 'igen, azon a rettenetes éjszakán, amikor csak ültem és majd szétpattant az agyam, hogy kitaláljak valamit, és elállítsam a patakzó vért, és leszálljon a láz, hiszen a szemem láttára szinte felperzselte már...', 'hogy elûzzem tõle az egyre közeledõ halált.', 'Megérti, mit jelent egy orvosnak, aki mindent tud, ami a gyógyításhoz kell, s ahogy ön bölcsen kijelentette, tudja azt is, hogy kötelessége segíteni, és mégis, szinte ájultan ül egy haldokló mellett, mindenre készen és mégis tehetetlenül, csak annyit érez, hogy nincs már segítség, még akkor sem, ha minden vérét a másiknak adná...', 'Csak nézi a drága testet, ahogy nyomorultul elvérzik, érzi a felszökõ, majd elhaló érverést...', 'ujjai között fogy el a vére...', 'egy orvos, aki semmit sem tud, semmit, de semmit...', 'Ott ül, és valami imafélét mormol, mint egy töpörödött vénasszony a templomban...', 'aztán az öklét rázza, és egy könyörületes Isten ellen lázad, akirõl tudja, hogy nem létezik...', 'Megérti ezt?', 'Meg tudja érteni?...', 'Én...', 'én csak egyet nem értek, miként lehetséges, hogy az ember túléli az ilyen perceket...', 'hogy másnap reggel felébred, fogat mos, és megköti a nyakkendõjét...', 'hogy a napok mennek tovább akkor is, ha az embernek ilyesmit kell átélnie...', 'hiszen az a lélek, az elsõ ember, akiért foggal és körömmel küzdöttem, akit minden erõmmel meg akartam tartani...', 'szinte már kisiklott a kezem közül...', 'percrõl percre messzebb tûnt, és lázas agyam nem tudott kitalálni semmit, hogy ezt az egyetlen embert visszaránthassam...', 'És volt még valami, ami megkétszerezte pokoli kínjaimat...', 'Mialatt az ágya szélén ültem - természetesen morfiumot adtam be neki, hogy enyhüljön a fájdalma, s õ tüzes ajakkal, sápadtan feküdt az ágyon -, egyszóval mondom, mialatt ott ültem, szakadatlanul egy szempár perzselte a hátam...', 'A kis boy kuporgott mögöttem a padlón, s valamilyen imát mormolt.', 'Valahányszor rápillantottam, alázatos szemében esengés meg hála lobogott, s karját felém tárta, mintha könyörögne, hogy segítsek...', 'Érti?', 'Összetett kézzel könyörgött hozzám, mint valami Istenhez...', 'hozzám, a béna és gyámoltalan senkihez...', 'Én pedig tudtam, hogy minden elveszett, hogy oly hiába vagyok ott, akárcsak az a padlón futkosó hangya...', 'ó, mennyire gyötrelmes volt ez a tekintet, ez az eltökélt, állati bizalom az én tudományomban.', 'Oly gyötrelmes volt ez, hogy szerettem volna üvöltve rátaposni erre a kölyökre...', 'és mégis éreztem, hogy szeretetünk és közös titkunk egymáshoz kötöz.', 'Úgy kuksolt mögöttem, mint egy meglapuló állat, mint valami néma gombolyag...', 'de amint kértem valamit, máris nesztelenül csupasz talpára pattant, mint egy macska, és reszketve, várakozó reménykedéssel nyújtotta felém, amit kértem...', 'Láttam, akár az ereit is felmetszette volna, hogy segítsen...', 'ennyire hatalmába kerítette ez az asszony az embereket...', 'nekem pedig annyi hatalmam sem volt, hogy egyetlen csepp vérét megmentsem...', 'Ó, ez az éj, ez a rettenetes, örökkévaló, élet és halál közt vajúdó éjszaka! Hajnal felé még egyszer feleszmélt...', 'szeme kinyílt, nem volt már fagyos és kevély ez a tekintet...', 'lázas fényû pillantása idegenül végigsiklott a szobán...', 'Aztán rám nézett: mintha töprengett volna, ki lehetek...', 's akkor hirtelen...', 'láttam, hogy eszébe jut minden...', 'rémület és tiltakozás, valami ellenséges iszonyat zavarta meg arcvonásait...', 'Kapkodott, mintha menekülni akarna...', 'el tõlem, el...', 'láttam, hogy arra az órára gondol, odakint...', 'Aztán lecsillapodott, nyugodtabban nézett rám...', 'és nehezen lélegzett, láttam, hogy mondani akar valamit.', 'Erõlködött, hogy feltápászkodjék, de visszahanyatlott...', 'nyugtatni próbáltam, közelebb hajoltam...', 'Elgyötörten, hosszan nézett rám...', 'ajka megmozdult...', 'gyönge, elhaló hangon megszólalt: - Nem tudja meg senki?...', 'Soha?...', '- Senki, soha - feleltem, olyan hangon, hogy meggyõzzem.', '- Ígérem! De szeme nyugtalanul csillogott tovább.', 'Lázasan, alig érthetõen préselte ki a szavakat: - Esküdjön meg...', 'hogy senki...', 'esküdjön...', 'Esküre emeltem ujjaimat.', 'Ellágyultan, meleg és hálás tekintettel nézett rám...', 'Igen, hálás, hálás volt! Még akart valamit mondani, de már nem tudott.', 'Sokáig feküdt lezárt szemmel, sápadtan a megerõltetéstõl.', 'Aztán kezdõdött az iszonyú...', 'iszonyú haláltusa...', 'Még egy óra hosszat viaskodott, csak reggelre lett vége...', 'Az idegen sokáig hallgatott.', 'Akkor eszméltem csak, mikor ismét megkondult a hajóóra: keményen hármat ütött.', 'Már bágyadtabban sütött a hold; a távolban pedig valami reszketõ, sárga világosság derengett, és néha könnyû, puha szél borzolta a levegõt.', 'Fél óra, aztán még egy, és felkel a nap - ez az egész borzalom szétoszlik a tiszta fényben.', 'Most, hogy oldódni kezdtek az árnyak, jobban kirajzolódtak az idegen vonásai.', 'Sapkáját levetette: tar koponyája még ijesztõbbé tette elgyötört arcát.', 'Szemüvege ismét felém villant, dereka kiegyenesedett, és keserû, metszõ gúnnyal folytatta: - Õ tehát túl volt rajta, én nem.', 'Ott maradtam a holttesttel egy idegen házban, egy városban, ahol semmi sem maradhatott rejtve az emberek elõtt.', 'A titkot pedig meg kellett õriznem...', 'Képzelje csak el a helyzetet: a kolónia egyik legelõkelõbb hölgye, akinek kutya baja se volt, s aki elõzõ este még a kormányzó bálján táncolt - egyszer csak ott fekszik holtan...', 'mellette egy idegen orvos, akit állítólag õ hívatott, de a házból senki sem látta, mikor és honnét csöppent oda...', 'az asszonyt éjszaka hozták, hordágyon, az ajtót bezárták...', 's reggelre halott...', 'S csak akkor hívják a cselédséget, persze máris visszhangzik a ház...', 'már tudják a szomszédok, tudja az egész város...', 'egyetlen ember van, aki az egészet elmagyarázhatná: az idegen orvos valami távoli körzetbõl...', 'Szép kis helyzet, ugyebár?', 'Tudtam, mi vár rám.', 'Szerencsére ott volt a derék kis boy.', 'Ez az együgyû, sárga jószág, aki minden kívánságomat kiolvasta a tekintetembõl, megérezte, hogy a legnehezebb még hátra van.', 'Csak ennyit kellett mondanom: - Asszonyod azt akarja, hogy senki ne tudjon semmirõl.', 'Elszánt, nedvesen csillogó kutyaszemével rám nézett: - Yes, sir.', 'Csak ennyit mondott, de máris eltüntette a vérnyomokat, s mindent rendbe rakott.', 'Példája láttán én is visszanyertem határozottságomat.', 'Soha annyi akaraterõm nem volt, és soha nem is lesz, mint akkor.', 'Ha mindent elveszítünk, végsõkig és kétségbeesetten ragaszkodunk ahhoz, ami megmaradt - nekem pedig nem maradt más, csak ez a titok és az õ végakarata.', 'Tökéletesen nyugodtan fogadtam az embereket, mindegyiknek elmondtam ugyanazt a kitalált történetet, miként találkoztam véletlenül a boyjal, aki orvosért futott.', 'De mialatt higgadtan beszéltem, egyre csak a döntõ pillanatra vártam, a halottkém érkezésére, akinek meg kell vizsgálnia a holttestet, mielõtt titkával együtt rázárjuk a koporsót.', 'Ne felejtse el, hogy már péntek volt, és a férjét szombatra várták...', 'Kilenckor végre hallottam, hogy megjött a tisztiorvos.', 'Én hívattam - feljebbvalóm volt és vetélytársam, ugyanaz, akirõl õ annak idején oly megvetéssel beszélt, s aki áthelyezési kérelmemrõl azóta már bizonyára értesült.', 'Elsõ pillantásra láttam, hogy ellenségem.', 'De éppen ez a tudat megsokszorozta erõmet.', 'Már az elõszobában megkérdezte: - Mikor halt meg Lady...', '- s a nevét említette.', '- Reggel hatkor.', '- És önt mikor hívatta?', '- Este tizenegykor.', '- Tudja, hogy én voltam a kezelõorvosa?', '- Igen, de nagyon sürgõs volt a dolog...', 'és az elhunyt kifejezetten engem kéretett.', 'Megtiltotta, hogy más orvost hívjanak.', 'Rám meredt.', 'Sápadt, kövérkés arca kivörösödött, láttam, hogy dühbe gurul.', 'Éppen erre volt szükségem! \\x81CEssünk túl rajta minél elõbb - gondoltam -, kimerült idegeimmel úgysem bírom soká.” Valami csípõset akart mondani, aztán hanyagul odavetette: - Ha ön szerint itt nincs is rám semmi szükség, azért mégiscsak hivatali kötelességem, hogy a halál bekövetkezését és okát megállapítsam.', 'Nem válaszoltam, és elõreengedtem.', 'Bent a szobában bezártam az ajtót, s a kulcsot az asztalra tettem.', 'Meglepetten összeráncolta homlokát: - Mit jelentsen ez?', 'Nyugodt hangon válaszoltam: - Itt most nem arról van szó, hogy a halál igazi okát megállapítsa, hanem valami mást kell kitalálni.', 'Ez az asszony egy végzetes beavatkozás után hívatott engem...', 'már nem tudtam megmenteni, de annyit megígértem, hogy legalább a becsületét megmentem.', 'És ez így is lesz! Arra kérem tehát, segítsen ön is.', 'Szeme kitágult a csodálkozástól.', '- Csak nem azt akarja mondani - hebegte -, hogy hatósági orvos létemre bûntényt fedezzek?', '- De igen, ezt akarom! - Az ön gaztettéért én...', '- Megmondtam, hogy egyetlen ujjal sem nyúltam hozzá...', 'máskülönben most nem állnék itt, hanem már régen végeztem volna magammal.', 'Ezért a félrelépésért, ha ugyan ön annak nevezi, éppen eléggé meglakolt, fölösleges még világgá is kürtölni.', 'Én pedig nem tûröm, hogy ennek az asszonynak a becsületét fölöslegesen beszennyezzék.', 'Határozottságom még jobban feldühítette.', '- Tehát nem fogja tûrni...', 'no lám, úgy látszik, én az ön alárendeltje vagyok...', 'legalábbis ön már ezt képzeli...', 'Hát csak tessék, próbáljon rendelkezni velem!...', 'Mindjárt gondoltam, hogy valami piszkos játék van a dologban, ha már iderendelték a vackából...', 'nos, jól kezdi...', 'szép kis munka, mondhatom...', 'Egyelõre azonban még itt vagyok én is, és abban biztos lehet, hogy valótlan jegyzõkönyvet nem írok alá.', 'Nem adom oda a nevem egy hazugsághoz.', 'Tökéletesen nyugodt voltam.', '- Ezúttal azonban mégis meg fogja tenni.', 'Különben nem teszi ki innét többé a lábát! Zsebembe nyúltam - a revolver nem volt nálam.', 'De azért összerezzent.', 'Közelebb léptem.', '- Figyeljen ide, mondok valamit...', 'mielõtt kenyértörésre kerülne a dolog.', 'Engem az életem nem érdekel, de a másé sem, ennyire jutottam már...', 'Engem már csak az érdekel, hogy ígéretemet betartsam, s a halál igazi oka titokban maradjon...', 'Én most becsületszavamat adom, hogy amennyiben megírja a halotti bizonyítványt, mely szerint az asszony valami...', 'valami véletlen folytán halt meg, én még ezen a héten eltûnök innét, és elhagyom Indiát...', 'vagy ha ez sem elég: amint elföldelik a koporsót, és én biztos lehetek afelõl, hogy senki...', 'érti: senki fel nem fedi a titkot, azonnal fõbe lövöm magam.', 'Ajánlom, érje be ennyivel! Veszett és félelmetes lehetett a hangom, mert ahogy önkéntelenül közelebb léptem, olyan rémülten hõkölt vissza, ahogy...', 'ahogy egy ámokfutó elõl menekül az ember, mikor az késével hadonászva, õrjöngve rohan elõre...', 'Egyszerre mintha kicserélték volna, meghunyászkodott és megszelídült, kemény ellenállása megtört, és szinte minden ellenkezés nélkül mondta: - Életemben elõször állítanék ki hamis jegyzõkönyvet...', 'Azért valahogy majd csak nyélbe ütjük...', 'hiszen tudom, elõfordul, hogy...', 'Hanem azért olyan egykönnyen mégsem szabadna...', '- Persze hogy nem! - vágtam közbe, hogy segítségére legyek, s közben ott lüktetett a halántékomban: \\x81CCsak gyorsan! Gyorsan!” - De most, amikor tudja, hogy csak egy élõt tenne tönkre, és egy halottat gyalázna meg, mégsem habozhat! Bólintott.', 'Az asztalhoz léptünk.', 'Néhány perc alatt már el is készült a tanúsítvány, amely aztán az újságokban is megjelent, s egy feltehetõ szívszélhûdést állapított meg.', 'Majd felállt, és rám nézett.', '- Még ezen a héten elutazik, ugyebár?', '- Szavamat adtam.', 'Ismét rám nézett.', 'Észrevettem, hogy szigorú és tárgyilagos szeretne maradni.', '- Azonnal gondoskodom koporsóról - mondta zavarát leplezve.', 'De mi lehetett olyan félelmetes és elgyötört a tekintetemben, hogy egyszerre kezet nyújtott, s fellobbanó szívélyességgel megszorította a kezem?', '- Legyen erõs - mondta, és én nem tudtam, mire gondol.', 'Beteg voltam?', 'Vagy õrült?', 'Kikísértem, de arra már alig maradt erõm, hogy az ajtót becsukjam utána.', 'Aztán a halántékom újra lüktetni kezdett, minden forgott körülöttem...', 'éppen az ágya elõtt roskadtam össze, ahogy...', 'ahogy az ámokfutó bomlott idegekkel összerogy, mikor irtózatos útjának végére ér...', 'Ismét szünetet tartott.', 'Megborzongtam: talán csak a hajnal hûvöse volt ez, amint a hajón végigsöpört?', 'De az elgyötört arc, melyen már felderengett a hajnal visszfénye, ismét megélénkült.', '- Nem tudom, mennyi ideig feküdtem a gyékényen.', 'Felrezzentem, mert valaki megérintett.', 'A kis boy állt mellettem; alázatosan és nyugtalanul nézett rám.', '- Van itt valaki...', 'Õt akarja látni...', '- Nem jöhet be senki! - Igen...', 'de...', 'Rémülten hunyorgott.', 'Mondani akart valamit, de nem mert megszólalni.', 'A hûséges jószág láthatóan szenvedett.', '- Ki az?', '- kérdeztem.', 'Remegve nézett rám, mintha attól félne, hogy megütöm.', 'És akkor nevet nem is mondott...', 'Szinte érthetetlen, hogy egy ilyen egyszerû kis lényben miként rejtõzhet ennyi tapintat...', 'ennyi színtiszta jóság, mely bizonyos pillanatokban egész valóját átmelegíti?', 'Félénken ennyit mondott csak: - Õ van itt.', 'Felpattantam.', 'Azonnal megértettem, és egyszerre emésztõ türelmetlenség fogott el, hogy megismerjem ezt az idegent.', 'Mert látja, milyen különös...', 'annyi gyötrõdés, lázas vágyakozás és szorongó sietség közepette teljesen megfeledkeztem róla...', 'hogy egy férfi is volt a játékban...', 'valaki, akit ez az asszony szeretett, s akit megajándékozott azzal a szenvedéllyel, amit tõlem megtagadott.', 'Huszonnégy órával ezelõtt még gyûlöltem és széttéptem volna...', 'Most pedig...', 'el sem tudom mondani, mennyire hajtott felé valami...', 'Hogy megismerjem és szeressem, mert hiszen õ is szerette...', 'Az ajtóhoz ugrottam.', 'Egész fiatal, vékonydongájú, félénk és sápadt, szõke tiszt állt ott.', 'Elragadóan fiatal volt, akár egy gyerek, és szinte meghatott, mennyire erõlködik, hogy férfiasnak mutatkozzék, és megindultságát leplezze...', 'Láttam, hogy reszket a keze, ahogy a sapkájához emeli...', 'Legszívesebben átöleltem volna...', 'mert éppen olyan volt, amilyennek azt az embert elképzeltem, akinek ez az asszony odaadta magát...', 'nem pöffeszkedõ nõcsábász, hanem szinte gyermek: üde, tiszta lény.', 'Elfogódottan állt elõttem.', 'Kutató tekintetem láttán s a szenvedélyes hévtõl, ahogy elébe szaladtam, csak még inkább megzavarodott.', 'Kicsi bajuszkája árulkodóan megrándult...', 'ez a fiatal gyerekkatona alig bírta megállni, hogy fel ne zokogjon.', '- Bocsánat - szólalt meg végre -, szerettem volna...', 'még egyszer...', 'látni...', 'Öntudatlanul átkaroltam ennek az idegen embernek a vállát, s mint egy beteget, odavezettem az ágyhoz.', 'Csodálkozó, végtelen meleg és hálás pillantással nézett rám...', 'mintha ezekben a percekben megértettük volna, hogy közös a sorsunk...', 'Odaléptünk a halotthoz...', 'Sápadtan feküdt a habfehér párnák között...', 'Éreztem, hogy jelenlétem zavaró, visszavonultam hát, hogy magukra hagyjam õket.', 'Lassan, tántorgó, tétova léptekkel közeledett...', 'hátulról is láttam, hogy rázza a zokogás...', 'Úgy lépett, mintha egy irtózatos viharban menne elõre...', 's az ágy elõtt hirtelen térdre zuhant...', 'pontosan így roskadtam össze én is az elõbb.', 'Odaugrottam, felemeltem, és leültettem egy székre.', 'Már nem szégyenkezett, felszabadultan zokogta el gyötrelmeit.', 'Egyetlen szót sem tudtam szólni - csak kezem tévedt oda öntudatlanul, és lassan simogatni kezdtem gyermekesen puha haját...', 'Szelíden és mégis szorongva kapott a kezem után...', 'S egyszerre éreztem, hogy rám tapad a tekintete.', '- Mondja meg az igazat, doktor úr - rebegte -, õ maga vetett véget az életének?', '- Nem - mondtam.', '- Akkor...', 'valami...', 'valaki más...', 'okozta halálát?', '- Nem, senki - feleltem, pedig torkomra tolult a szó, hogy arcába kiáltsam: \\x81CÉn! Én! Én!...', 'És te!...', 'Mi ketten tehetünk róla! És az õ szerencsétlen makacssága!” De lecsillapítva magam, megismételtem: - Nem, senki sem tehet róla...', 'Úgy látszik, így kellett lennie...', '- Olyan hihetetlen - dadogta -, el sem tudom hinni...', 'Tegnapelõtt még ott volt a fogadáson, felém mosolygott és integetett.', 'Hát lehetséges ez?', 'Hogy történhetett?', 'Kitaláltam egy hosszú mesét, neki sem árultam el a titkot.', 'Végigbeszélgettük ezeket a napokat, akár két testvér, mindkettõnket áthatott az érzés, hogy összetartozunk...', 's ha nem is mondtuk ki, de mindkettõnk tudta a másikról, hogy élete ehhez az asszonyhoz tartozik.', 'Olykor szinte már kicsúszott a számon, de aztán ajkam összeszorítva hallgattam - nem tudta meg soha, hogy az a gyermekét hordozta a szíve alatt, hogy nekem ezt a gyermeket, az õ gyermekét, meg kellett volna ölnöm, és...', 'és hogy azt is magával rántotta a mélybe.', 'Pedig egyre csak róla beszéltünk, hiszen napokig a lakásán rejtegetett, mert...', 'ezt elfelejtettem mondani...', 'nyomoztak utánam.', 'A koporsó már le volt zárva, mikor a férje megérkezett...', 'nem hitt a halotti jelentésnek...', 'az emberek pedig mindenfélét rebesgettek...', 'Egyszóval keresett engem.', 'Csakhogy én már nem éreztem elég erõt ahhoz, hogy találkozzam ezzel az emberrel, akirõl tudtam, mennyi szenvedést okozott neki...', 'elrejtõztem tehát, négy napig ki sem mozdultam a házból, mindketten ott bujkáltunk új barátom lakásán.', 'Ez a férfi pedig, aki a kedvese volt, hamis névre szerzett egy hajójegyet, s így megszökhettem...', 'Úgy osontam a fedélzetre, mint egy tolvaj, nehogy valaki felismerjen.', 'Otthagytam mindent - pénzem, házam, benne hétévi munkám gyümölcsét -, mindez most ott maradt, bárki szabad prédájaként.', 'A kormányzói hivatal urai pedig már bizonyára töröltek az alkalmazottak névsorából, hiszen engedély nélkül hagytam el állomáshelyemet.', 'De nem tudtam tovább élni abban a házban vagy városban, abban a környezetben, ahol minden reá emlékeztetett...', 'Mint valami tolvaj, az éj leple alatt szöktem meg, az emléke elõl...', 'Csak felejteni...', 'felejteni...', 'De ahogy a fedélzetre érek...', 'éjszaka volt, éjfél körül...', 'a barátom elkísért...', 'és akkor...', 'éppen akkor...', 'daruval emelnek valamit a hajóra, valami fekete és szögletes tömeget...', 'A koporsója volt...', 'hallja?', 'Az õ koporsója...', 'Követett tehát ide is, ahogy én követtem õt mindenüvé...', 'némán és közömbösen kellett állnom, mert a férje is ott volt...', 'Elkíséri Angliába, talán fel is akarja boncoltatni...', 'Ismét hatalmába kerítette, elvette tõlünk...', 'nem a mienk többé...', 'De én még itt vagyok, utolsó leheletemig vele maradok, nem szabad megtudnia a titkot, megvédem mindenáron...', 'megvédem ettõl a bitangtól, aki elõl a halálba menekült...', 'Nem fogja megtudni soha...', 'soha...', 'ez a titok az enyém, egyedül az enyém...', 'Megérti hát...', 'érti már, mért irtózom az emberektõl?', 'Nem tudom hallgatni a nevetgélést, nem bírom látni a flörtöt és szerelmeskedést...', 'mert odalent, a hajó gyomrában, teabálák és kókuszdióhalmok között van a koporsó...', 'Nem férhetek hozzá, a rakomány be van zárva...', 'de azért minden érzékemmel érzem, minden pillanatban tudom, hogy ott van, hiába keringõznek és tangóznak idefent...', 'Persze ostobaság az egész, hiszen a tenger millió holttestet takar, a szárazföldön minden talpalatnyi helyen oszlik egy hulla...', 'És most mégsem tudom elviselni, hogy itt álarcosbálokat rendeznek, és kéjesen kacarásznak...', 'mert a halott egyre kísért, és tudom, hogy még akar tõlem valamit...', 'tudom, hogy még van egy kötelességem...', 'nem pihenhetek, mert még nem mentettem meg a titkot...', 's addig még foglyul tart, nem vagyok szabad...', 'A hajó dereka felõl csoszogás, paskoló zaj hallatszott.', 'Matrózok súrolták a fedélzetet.', 'Az idegen felriadt, mintha rajtakapták volna: petyhüdt arcán rémület látszott.', 'Felugorva így motyogott: - Megyek már...', 'megyek...', 'Nézni is siralom volt kiégett, alkoholtól, sírástól gyulladt szemeit.', 'Minden kísérletemet megakadályozta, hogy együttérzésemet kifejezzem: láttam, emészti a szégyen, hogy elárulta magát ezen az éjszakán.', 'Önkéntelenül megkérdeztem: - Megengedi, hogy délután meglátogassam a kabinjában?', 'Rám nézett.', 'Gúnyos, cinikus mosolyra húzódott az arca, úgy lökte felém a szavakat, mint valami gyilkos mérget.', '- Aha...', 'persze, az ön híres kötelességtudása...', 'Az elveivel ugyan jól beugrasztott, hogy mindent kilocsogjak! Nem, uram, köszönöm, elég volt.', 'Nehogy azt higgye, hogy most megkönnyebbültem, mert mindenestül kitártam magam, beleim mocskával együtt.', 'Az én elpocsékolt életemet már úgysem lehet összefoltozni, még az igen tiszteletreméltó holland kormányt is hiába szolgáltam, a nyugdíjamnak is lõttek...', 'Úgy térek vissza Európába, mint egy szegény ördög...', 'mint valami nyomorult kutya, aki vinnyog egy koporsó után...', 'Az ámokfutó úgysem ússza meg, a végén jön valaki és fejbe vágja, remélem, lassan már én is befejezem...', 'Nem, uram, köszönöm, hagyjuk ezt a jóságos látogatást, van nekem odalent társaságom...', 'Néhány palack jó öreg whisky, õk a vigasztalóim...', 'meg az én régi jó barátom, az öreg browning, kár, hogy nem fordultam hozzá idejekorán...', 'végül is többet ér minden locsogásnál...', 'Sose fáradjon tehát, az egyetlen, amihez mégiscsak joga van az embernek, hogy úgy dögöljön meg, ahogy neki jólesik...', 'és hogy legalább akkor békén hagyják mindenféle jótét lelkek.', 'Még egyszer gúnyosan végigmért.', 'Szinte kihívó volt ez a pillantás, de éreztem, hogy csak szégyelli, határtalanul szégyelli magát.', 'Behúzta a nyakát, megfordult, és köszönés nélkül, roggyant léptekkel kullogott a kivilágosodott fedélzeten a kabinok felé.', 'Nem láttam többé.', 'Aznap éjjel és a következõ napokon is hiába kerestem a megszokott helyen.', 'Nyomtalanul eltûnt, és én már-már álomnak vagy valami különös látomásnak hittem volna az egészet, ha az utasok között nem tûnik fel egy gyászszalagos férfi, holland nagykereskedõ, aki, mint hallottam, valami trópusi betegség miatt nemrégiben vesztette el a feleségét.', 'Komolyan és elgyötörten járt-kelt, mindenütt egyedül láttam - s az a gondolat, hogy legtitkosabb tépelõdéseirõl is tudok, mindig megborzongatott.', 'Ha összetalálkoztunk, kitértem az útjából, nehogy akár egy pillantással eláruljam, hogy nála is többet tudok végzetérõl.', 'Ezután történt a nápolyi kikötõben az a megdöbbentõ szerencsétlenség, melynek magyarázata valószínûleg az idegen elbeszélésében rejlik.', 'A legtöbb utas estefelé partra szállt.', 'Én az operába mentem, utána pedig a Via Roma egyik csillogó kávéházában töltöttem az idõt.', 'Mikor visszaeveztünk a hajóra, már messzirõl láttam, hogy néhány csónak cirkál a gõzös körül, fáklyákkal és acetilénlámpákkal keresgélnek valamit a vízben, a fedélzetrõl pedig titokzatos sürgés-forgás hallatszik: csendõrök és karabinierik futkosnak összevissza.', '\\x81CMi történt?” - kérdeztem az egyik matróztól.', 'Kitérõ választ kaptam, és így azonnal tudtam, hogy parancsot kapott a hallgatásra.', 'Másnap sem sikerült többet megtudnom, mikor a hajó békésen felszedte a horgonyt, és mintha mi sem történt volna, folytatta útját Genova felé.', 'Csak késõbb olvastam az olasz lapok romantikusan kiszínezett tudósításait az állítólag véletlen nápolyi szerencsétlenségrõl.', 'Ezek szerint azon az éjszakán, amikor már a hajón is minden elcsendesült, hogy kíméljék az utasok lelki nyugalmát - egy holland gyarmaton elhunyt elõkelõ hölgy koporsóját akarták partra szállítani.', 'A férj jelenlétében éppen leengedték a kötélhágcsót, mikor valami súlyos tömeg zuhant alá a fedélzetrõl, s a koporsót a férjjel és a munkásokkal együtt a mélybe sodorta.', 'Az egyik újság szerint egy õrült vetette le magát a hágcsóra; a másik úgy próbálta szépíteni az ügyet, hogy a hágcsó a túlzott megterheléstõl leszakadt.', 'A hajóstársaság mindenesetre mindent elkövetett, hogy a valóságot elködösítse.', 'Az elhunyt férjét és a munkásokat nagy nehezen sikerült ugyan kimenteni a tengerbõl, a nehéz ólomkoporsó azonban menten alámerült, és nem is lehetett többé kihalászni.', 'Egy másik rövid napihír, mely arról tudósított, hogy a kikötõben egy negyven év körüli férfi tetemét dobta ki a víz, a közvélemény számára látszólag semmi összefüggésben sem volt a romantikusan tálalt szerencsétlenséggel.', 'Elõttem azonban, mikor ezt a néhány sort elolvastam, mintha a lap mögül még egyszer felmerült volna az a dermedt, holtsápadt arc a kísértetiesen villogó szemüveg mögött.', '.oOo.']\n"
          ]
        }
      ]
    },
    {
      "cell_type": "markdown",
      "source": [
        "# Translate Text in Unsupported language to English"
      ],
      "metadata": {
        "id": "JZ_PL-KTVbgv"
      }
    },
    {
      "cell_type": "code",
      "source": [
        "!pip install googletrans"
      ],
      "metadata": {
        "id": "XfKYhGighVHR",
        "colab": {
          "base_uri": "https://localhost:8080/"
        },
        "outputId": "a7a8602b-dec8-4753-def4-23c92d7ca9b6"
      },
      "execution_count": 67,
      "outputs": [
        {
          "output_type": "stream",
          "name": "stdout",
          "text": [
            "Requirement already satisfied: googletrans in /usr/local/lib/python3.7/dist-packages (3.0.0)\n",
            "Requirement already satisfied: httpx==0.13.3 in /usr/local/lib/python3.7/dist-packages (from googletrans) (0.13.3)\n",
            "Requirement already satisfied: idna==2.* in /usr/local/lib/python3.7/dist-packages (from httpx==0.13.3->googletrans) (2.10)\n",
            "Requirement already satisfied: rfc3986<2,>=1.3 in /usr/local/lib/python3.7/dist-packages (from httpx==0.13.3->googletrans) (1.5.0)\n",
            "Requirement already satisfied: httpcore==0.9.* in /usr/local/lib/python3.7/dist-packages (from httpx==0.13.3->googletrans) (0.9.1)\n",
            "Requirement already satisfied: sniffio in /usr/local/lib/python3.7/dist-packages (from httpx==0.13.3->googletrans) (1.2.0)\n",
            "Requirement already satisfied: chardet==3.* in /usr/local/lib/python3.7/dist-packages (from httpx==0.13.3->googletrans) (3.0.4)\n",
            "Requirement already satisfied: certifi in /usr/local/lib/python3.7/dist-packages (from httpx==0.13.3->googletrans) (2021.10.8)\n",
            "Requirement already satisfied: hstspreload in /usr/local/lib/python3.7/dist-packages (from httpx==0.13.3->googletrans) (2021.12.1)\n",
            "Requirement already satisfied: h11<0.10,>=0.8 in /usr/local/lib/python3.7/dist-packages (from httpcore==0.9.*->httpx==0.13.3->googletrans) (0.9.0)\n",
            "Requirement already satisfied: h2==3.* in /usr/local/lib/python3.7/dist-packages (from httpcore==0.9.*->httpx==0.13.3->googletrans) (3.2.0)\n",
            "Requirement already satisfied: hyperframe<6,>=5.2.0 in /usr/local/lib/python3.7/dist-packages (from h2==3.*->httpcore==0.9.*->httpx==0.13.3->googletrans) (5.2.0)\n",
            "Requirement already satisfied: hpack<4,>=3.0 in /usr/local/lib/python3.7/dist-packages (from h2==3.*->httpcore==0.9.*->httpx==0.13.3->googletrans) (3.0.0)\n"
          ]
        }
      ]
    },
    {
      "cell_type": "code",
      "source": [
        "from googletrans import Translator\n",
        "translator = Translator()\n",
        "translator.translate('Was ist los?').text"
      ],
      "metadata": {
        "id": "XO-O06NmhaIe"
      },
      "execution_count": null,
      "outputs": []
    },
    {
      "cell_type": "markdown",
      "source": [
        "\n",
        "# Generating the PDF with LaTex\n",
        "\n",
        "LaTex file generation experiments were done outside the notebook."
      ],
      "metadata": {
        "id": "XGlYFvbu64BH"
      }
    },
    {
      "cell_type": "code",
      "source": [
        ""
      ],
      "metadata": {
        "id": "nDN5tBFE8Oww"
      },
      "execution_count": null,
      "outputs": []
    }
  ]
}